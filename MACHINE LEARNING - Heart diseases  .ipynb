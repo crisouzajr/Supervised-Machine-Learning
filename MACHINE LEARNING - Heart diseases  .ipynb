{
 "cells": [
  {
   "cell_type": "markdown",
   "metadata": {},
   "source": [
    "# Developing Machine Learning Model\n",
    "\n",
    "## Heart Diseases"
   ]
  },
  {
   "cell_type": "markdown",
   "metadata": {},
   "source": [
    "<img src = 'Parte 1.png'> "
   ]
  },
  {
   "cell_type": "markdown",
   "metadata": {},
   "source": [
    "<img src = 'Parte 2.png'>"
   ]
  },
  {
   "cell_type": "markdown",
   "metadata": {},
   "source": [
    "# Carregando a base de dados para realizar as primeiras análises exploratória."
   ]
  },
  {
   "cell_type": "code",
   "execution_count": 1,
   "metadata": {},
   "outputs": [],
   "source": [
    "# Loading mainly library to analyse the dataset. \n",
    "\n",
    "import pandas as pd\n",
    "import numpy as np\n",
    "import matplotlib.pyplot as plt\n",
    "import seaborn as sns"
   ]
  },
  {
   "cell_type": "code",
   "execution_count": 2,
   "metadata": {
    "scrolled": true
   },
   "outputs": [
    {
     "data": {
      "text/html": [
       "<div>\n",
       "<style scoped>\n",
       "    .dataframe tbody tr th:only-of-type {\n",
       "        vertical-align: middle;\n",
       "    }\n",
       "\n",
       "    .dataframe tbody tr th {\n",
       "        vertical-align: top;\n",
       "    }\n",
       "\n",
       "    .dataframe thead th {\n",
       "        text-align: right;\n",
       "    }\n",
       "</style>\n",
       "<table border=\"1\" class=\"dataframe\">\n",
       "  <thead>\n",
       "    <tr style=\"text-align: right;\">\n",
       "      <th></th>\n",
       "      <th>age</th>\n",
       "      <th>sex</th>\n",
       "      <th>cp</th>\n",
       "      <th>trestbps</th>\n",
       "      <th>chol</th>\n",
       "      <th>fbs</th>\n",
       "      <th>restecg</th>\n",
       "      <th>thalach</th>\n",
       "      <th>exang</th>\n",
       "      <th>oldpeak</th>\n",
       "      <th>slope</th>\n",
       "      <th>ca</th>\n",
       "      <th>thal</th>\n",
       "      <th>target</th>\n",
       "    </tr>\n",
       "  </thead>\n",
       "  <tbody>\n",
       "    <tr>\n",
       "      <th>0</th>\n",
       "      <td>63</td>\n",
       "      <td>1</td>\n",
       "      <td>3</td>\n",
       "      <td>145</td>\n",
       "      <td>233</td>\n",
       "      <td>1</td>\n",
       "      <td>0</td>\n",
       "      <td>150</td>\n",
       "      <td>0</td>\n",
       "      <td>2.3</td>\n",
       "      <td>0</td>\n",
       "      <td>0</td>\n",
       "      <td>1</td>\n",
       "      <td>1</td>\n",
       "    </tr>\n",
       "    <tr>\n",
       "      <th>1</th>\n",
       "      <td>37</td>\n",
       "      <td>1</td>\n",
       "      <td>2</td>\n",
       "      <td>130</td>\n",
       "      <td>250</td>\n",
       "      <td>0</td>\n",
       "      <td>1</td>\n",
       "      <td>187</td>\n",
       "      <td>0</td>\n",
       "      <td>3.5</td>\n",
       "      <td>0</td>\n",
       "      <td>0</td>\n",
       "      <td>2</td>\n",
       "      <td>1</td>\n",
       "    </tr>\n",
       "    <tr>\n",
       "      <th>2</th>\n",
       "      <td>41</td>\n",
       "      <td>0</td>\n",
       "      <td>1</td>\n",
       "      <td>130</td>\n",
       "      <td>204</td>\n",
       "      <td>0</td>\n",
       "      <td>0</td>\n",
       "      <td>172</td>\n",
       "      <td>0</td>\n",
       "      <td>1.4</td>\n",
       "      <td>2</td>\n",
       "      <td>0</td>\n",
       "      <td>2</td>\n",
       "      <td>1</td>\n",
       "    </tr>\n",
       "    <tr>\n",
       "      <th>3</th>\n",
       "      <td>56</td>\n",
       "      <td>1</td>\n",
       "      <td>1</td>\n",
       "      <td>120</td>\n",
       "      <td>236</td>\n",
       "      <td>0</td>\n",
       "      <td>1</td>\n",
       "      <td>178</td>\n",
       "      <td>0</td>\n",
       "      <td>0.8</td>\n",
       "      <td>2</td>\n",
       "      <td>0</td>\n",
       "      <td>2</td>\n",
       "      <td>1</td>\n",
       "    </tr>\n",
       "    <tr>\n",
       "      <th>4</th>\n",
       "      <td>57</td>\n",
       "      <td>0</td>\n",
       "      <td>0</td>\n",
       "      <td>120</td>\n",
       "      <td>354</td>\n",
       "      <td>0</td>\n",
       "      <td>1</td>\n",
       "      <td>163</td>\n",
       "      <td>1</td>\n",
       "      <td>0.6</td>\n",
       "      <td>2</td>\n",
       "      <td>0</td>\n",
       "      <td>2</td>\n",
       "      <td>1</td>\n",
       "    </tr>\n",
       "  </tbody>\n",
       "</table>\n",
       "</div>"
      ],
      "text/plain": [
       "   age  sex  cp  trestbps  chol  fbs  restecg  thalach  exang  oldpeak  slope  \\\n",
       "0   63    1   3       145   233    1        0      150      0      2.3      0   \n",
       "1   37    1   2       130   250    0        1      187      0      3.5      0   \n",
       "2   41    0   1       130   204    0        0      172      0      1.4      2   \n",
       "3   56    1   1       120   236    0        1      178      0      0.8      2   \n",
       "4   57    0   0       120   354    0        1      163      1      0.6      2   \n",
       "\n",
       "   ca  thal  target  \n",
       "0   0     1       1  \n",
       "1   0     2       1  \n",
       "2   0     2       1  \n",
       "3   0     2       1  \n",
       "4   0     2       1  "
      ]
     },
     "execution_count": 2,
     "metadata": {},
     "output_type": "execute_result"
    }
   ],
   "source": [
    "# Visualization of the dataset\n",
    "\n",
    "df = pd.read_csv('heart.csv')\n",
    "df.head()"
   ]
  },
  {
   "cell_type": "code",
   "execution_count": 3,
   "metadata": {},
   "outputs": [
    {
     "name": "stdout",
     "output_type": "stream",
     "text": [
      "age\n",
      "sex\n",
      "cp\n",
      "trestbps\n",
      "chol\n",
      "fbs\n",
      "restecg\n",
      "thalach\n",
      "exang\n",
      "oldpeak\n",
      "slope\n",
      "ca\n",
      "thal\n",
      "target\n"
     ]
    }
   ],
   "source": [
    "# Printing Column names for dataset understanding pourpose:\n",
    "\n",
    "for i in df:\n",
    "    print(i)"
   ]
  },
  {
   "cell_type": "code",
   "execution_count": 4,
   "metadata": {},
   "outputs": [
    {
     "data": {
      "text/plain": [
       "(303, 14)"
      ]
     },
     "execution_count": 4,
     "metadata": {},
     "output_type": "execute_result"
    }
   ],
   "source": [
    "df.shape"
   ]
  },
  {
   "cell_type": "code",
   "execution_count": 5,
   "metadata": {},
   "outputs": [
    {
     "data": {
      "text/plain": [
       "1    165\n",
       "0    138\n",
       "Name: target, dtype: int64"
      ]
     },
     "execution_count": 5,
     "metadata": {},
     "output_type": "execute_result"
    }
   ],
   "source": [
    "\"\"\"Visualizing the target column variable count\"\"\"\n",
    "\n",
    "df.target.value_counts()"
   ]
  },
  {
   "cell_type": "code",
   "execution_count": 6,
   "metadata": {},
   "outputs": [
    {
     "data": {
      "image/png": "[encoded data removed]",
      "text/plain": [
       "<Figure size 432x288 with 1 Axes>"
      ]
     },
     "metadata": {
      "needs_background": "light"
     },
     "output_type": "display_data"
    }
   ],
   "source": [
    "# The variables 0 = healthy & 1 = seak\n",
    "\n",
    "sns.countplot(x=df.target)\n",
    "plt.title(\"Balanceamento das Classes\")\n",
    "plt.show()"
   ]
  },
  {
   "cell_type": "code",
   "execution_count": 7,
   "metadata": {
    "scrolled": true
   },
   "outputs": [
    {
     "data": {
      "text/html": [
       "<style  type=\"text/css\" >\n",
       "#T_43b0df5b_8c2c_11eb_87bb_a08869cbf95crow0_col0,#T_43b0df5b_8c2c_11eb_87bb_a08869cbf95crow1_col1,#T_43b0df5b_8c2c_11eb_87bb_a08869cbf95crow2_col2,#T_43b0df5b_8c2c_11eb_87bb_a08869cbf95crow3_col3,#T_43b0df5b_8c2c_11eb_87bb_a08869cbf95crow4_col4,#T_43b0df5b_8c2c_11eb_87bb_a08869cbf95crow5_col5,#T_43b0df5b_8c2c_11eb_87bb_a08869cbf95crow6_col6,#T_43b0df5b_8c2c_11eb_87bb_a08869cbf95crow7_col7,#T_43b0df5b_8c2c_11eb_87bb_a08869cbf95crow8_col8,#T_43b0df5b_8c2c_11eb_87bb_a08869cbf95crow9_col9,#T_43b0df5b_8c2c_11eb_87bb_a08869cbf95crow10_col10,#T_43b0df5b_8c2c_11eb_87bb_a08869cbf95crow11_col11,#T_43b0df5b_8c2c_11eb_87bb_a08869cbf95crow12_col12,#T_43b0df5b_8c2c_11eb_87bb_a08869cbf95crow13_col13{\n",
       "            background-color:  #b40426;\n",
       "            color:  #f1f1f1;\n",
       "        }#T_43b0df5b_8c2c_11eb_87bb_a08869cbf95crow0_col1,#T_43b0df5b_8c2c_11eb_87bb_a08869cbf95crow6_col10{\n",
       "            background-color:  #80a3fa;\n",
       "            color:  #000000;\n",
       "        }#T_43b0df5b_8c2c_11eb_87bb_a08869cbf95crow0_col2{\n",
       "            background-color:  #88abfd;\n",
       "            color:  #000000;\n",
       "        }#T_43b0df5b_8c2c_11eb_87bb_a08869cbf95crow0_col3{\n",
       "            background-color:  #d9dce1;\n",
       "            color:  #000000;\n",
       "        }#T_43b0df5b_8c2c_11eb_87bb_a08869cbf95crow0_col4{\n",
       "            background-color:  #ccd9ed;\n",
       "            color:  #000000;\n",
       "        }#T_43b0df5b_8c2c_11eb_87bb_a08869cbf95crow0_col5,#T_43b0df5b_8c2c_11eb_87bb_a08869cbf95crow8_col0{\n",
       "            background-color:  #b7cff9;\n",
       "            color:  #000000;\n",
       "        }#T_43b0df5b_8c2c_11eb_87bb_a08869cbf95crow0_col6,#T_43b0df5b_8c2c_11eb_87bb_a08869cbf95crow10_col8,#T_43b0df5b_8c2c_11eb_87bb_a08869cbf95crow13_col3{\n",
       "            background-color:  #7b9ff9;\n",
       "            color:  #000000;\n",
       "        }#T_43b0df5b_8c2c_11eb_87bb_a08869cbf95crow0_col7,#T_43b0df5b_8c2c_11eb_87bb_a08869cbf95crow1_col13,#T_43b0df5b_8c2c_11eb_87bb_a08869cbf95crow2_col8,#T_43b0df5b_8c2c_11eb_87bb_a08869cbf95crow3_col13,#T_43b0df5b_8c2c_11eb_87bb_a08869cbf95crow4_col1,#T_43b0df5b_8c2c_11eb_87bb_a08869cbf95crow5_col6,#T_43b0df5b_8c2c_11eb_87bb_a08869cbf95crow6_col4,#T_43b0df5b_8c2c_11eb_87bb_a08869cbf95crow7_col0,#T_43b0df5b_8c2c_11eb_87bb_a08869cbf95crow8_col13,#T_43b0df5b_8c2c_11eb_87bb_a08869cbf95crow9_col10,#T_43b0df5b_8c2c_11eb_87bb_a08869cbf95crow10_col9,#T_43b0df5b_8c2c_11eb_87bb_a08869cbf95crow11_col13,#T_43b0df5b_8c2c_11eb_87bb_a08869cbf95crow12_col13,#T_43b0df5b_8c2c_11eb_87bb_a08869cbf95crow13_col8{\n",
       "            background-color:  #3b4cc0;\n",
       "            color:  #f1f1f1;\n",
       "        }#T_43b0df5b_8c2c_11eb_87bb_a08869cbf95crow0_col8,#T_43b0df5b_8c2c_11eb_87bb_a08869cbf95crow11_col3{\n",
       "            background-color:  #b1cbfc;\n",
       "            color:  #000000;\n",
       "        }#T_43b0df5b_8c2c_11eb_87bb_a08869cbf95crow0_col9{\n",
       "            background-color:  #cbd8ee;\n",
       "            color:  #000000;\n",
       "        }#T_43b0df5b_8c2c_11eb_87bb_a08869cbf95crow0_col10,#T_43b0df5b_8c2c_11eb_87bb_a08869cbf95crow2_col12,#T_43b0df5b_8c2c_11eb_87bb_a08869cbf95crow5_col2{\n",
       "            background-color:  #6f92f3;\n",
       "            color:  #000000;\n",
       "        }#T_43b0df5b_8c2c_11eb_87bb_a08869cbf95crow0_col11{\n",
       "            background-color:  #d8dce2;\n",
       "            color:  #000000;\n",
       "        }#T_43b0df5b_8c2c_11eb_87bb_a08869cbf95crow0_col12,#T_43b0df5b_8c2c_11eb_87bb_a08869cbf95crow11_col4{\n",
       "            background-color:  #aac7fd;\n",
       "            color:  #000000;\n",
       "        }#T_43b0df5b_8c2c_11eb_87bb_a08869cbf95crow0_col13,#T_43b0df5b_8c2c_11eb_87bb_a08869cbf95crow8_col10{\n",
       "            background-color:  #6180e9;\n",
       "            color:  #000000;\n",
       "        }#T_43b0df5b_8c2c_11eb_87bb_a08869cbf95crow1_col0{\n",
       "            background-color:  #6788ee;\n",
       "            color:  #000000;\n",
       "        }#T_43b0df5b_8c2c_11eb_87bb_a08869cbf95crow1_col2,#T_43b0df5b_8c2c_11eb_87bb_a08869cbf95crow3_col12{\n",
       "            background-color:  #7597f6;\n",
       "            color:  #000000;\n",
       "        }#T_43b0df5b_8c2c_11eb_87bb_a08869cbf95crow1_col3,#T_43b0df5b_8c2c_11eb_87bb_a08869cbf95crow1_col6,#T_43b0df5b_8c2c_11eb_87bb_a08869cbf95crow2_col9{\n",
       "            background-color:  #7295f4;\n",
       "            color:  #000000;\n",
       "        }#T_43b0df5b_8c2c_11eb_87bb_a08869cbf95crow1_col4,#T_43b0df5b_8c2c_11eb_87bb_a08869cbf95crow13_col12{\n",
       "            background-color:  #4e68d8;\n",
       "            color:  #000000;\n",
       "        }#T_43b0df5b_8c2c_11eb_87bb_a08869cbf95crow1_col5,#T_43b0df5b_8c2c_11eb_87bb_a08869cbf95crow8_col6{\n",
       "            background-color:  #8fb1fe;\n",
       "            color:  #000000;\n",
       "        }#T_43b0df5b_8c2c_11eb_87bb_a08869cbf95crow1_col7,#T_43b0df5b_8c2c_11eb_87bb_a08869cbf95crow3_col8,#T_43b0df5b_8c2c_11eb_87bb_a08869cbf95crow12_col7{\n",
       "            background-color:  #7699f6;\n",
       "            color:  #000000;\n",
       "        }#T_43b0df5b_8c2c_11eb_87bb_a08869cbf95crow1_col8,#T_43b0df5b_8c2c_11eb_87bb_a08869cbf95crow9_col6,#T_43b0df5b_8c2c_11eb_87bb_a08869cbf95crow10_col5,#T_43b0df5b_8c2c_11eb_87bb_a08869cbf95crow12_col4{\n",
       "            background-color:  #a9c6fd;\n",
       "            color:  #000000;\n",
       "        }#T_43b0df5b_8c2c_11eb_87bb_a08869cbf95crow1_col9,#T_43b0df5b_8c2c_11eb_87bb_a08869cbf95crow3_col9{\n",
       "            background-color:  #9dbdff;\n",
       "            color:  #000000;\n",
       "        }#T_43b0df5b_8c2c_11eb_87bb_a08869cbf95crow1_col10{\n",
       "            background-color:  #7a9df8;\n",
       "            color:  #000000;\n",
       "        }#T_43b0df5b_8c2c_11eb_87bb_a08869cbf95crow1_col11{\n",
       "            background-color:  #a2c1ff;\n",
       "            color:  #000000;\n",
       "        }#T_43b0df5b_8c2c_11eb_87bb_a08869cbf95crow1_col12,#T_43b0df5b_8c2c_11eb_87bb_a08869cbf95crow8_col11{\n",
       "            background-color:  #bbd1f8;\n",
       "            color:  #000000;\n",
       "        }#T_43b0df5b_8c2c_11eb_87bb_a08869cbf95crow2_col0,#T_43b0df5b_8c2c_11eb_87bb_a08869cbf95crow3_col4,#T_43b0df5b_8c2c_11eb_87bb_a08869cbf95crow12_col5{\n",
       "            background-color:  #86a9fc;\n",
       "            color:  #000000;\n",
       "        }#T_43b0df5b_8c2c_11eb_87bb_a08869cbf95crow2_col1,#T_43b0df5b_8c2c_11eb_87bb_a08869cbf95crow4_col12,#T_43b0df5b_8c2c_11eb_87bb_a08869cbf95crow12_col6{\n",
       "            background-color:  #8caffe;\n",
       "            color:  #000000;\n",
       "        }#T_43b0df5b_8c2c_11eb_87bb_a08869cbf95crow2_col3,#T_43b0df5b_8c2c_11eb_87bb_a08869cbf95crow7_col6{\n",
       "            background-color:  #a5c3fe;\n",
       "            color:  #000000;\n",
       "        }#T_43b0df5b_8c2c_11eb_87bb_a08869cbf95crow2_col4,#T_43b0df5b_8c2c_11eb_87bb_a08869cbf95crow11_col6{\n",
       "            background-color:  #85a8fc;\n",
       "            color:  #000000;\n",
       "        }#T_43b0df5b_8c2c_11eb_87bb_a08869cbf95crow2_col5,#T_43b0df5b_8c2c_11eb_87bb_a08869cbf95crow8_col3,#T_43b0df5b_8c2c_11eb_87bb_a08869cbf95crow8_col4{\n",
       "            background-color:  #afcafc;\n",
       "            color:  #000000;\n",
       "        }#T_43b0df5b_8c2c_11eb_87bb_a08869cbf95crow2_col6,#T_43b0df5b_8c2c_11eb_87bb_a08869cbf95crow10_col11{\n",
       "            background-color:  #a3c2fe;\n",
       "            color:  #000000;\n",
       "        }#T_43b0df5b_8c2c_11eb_87bb_a08869cbf95crow2_col7{\n",
       "            background-color:  #dbdcde;\n",
       "            color:  #000000;\n",
       "        }#T_43b0df5b_8c2c_11eb_87bb_a08869cbf95crow2_col10,#T_43b0df5b_8c2c_11eb_87bb_a08869cbf95crow3_col0,#T_43b0df5b_8c2c_11eb_87bb_a08869cbf95crow9_col5,#T_43b0df5b_8c2c_11eb_87bb_a08869cbf95crow12_col11{\n",
       "            background-color:  #b6cefa;\n",
       "            color:  #000000;\n",
       "        }#T_43b0df5b_8c2c_11eb_87bb_a08869cbf95crow2_col11{\n",
       "            background-color:  #6b8df0;\n",
       "            color:  #000000;\n",
       "        }#T_43b0df5b_8c2c_11eb_87bb_a08869cbf95crow2_col13,#T_43b0df5b_8c2c_11eb_87bb_a08869cbf95crow13_col7{\n",
       "            background-color:  #f1ccb8;\n",
       "            color:  #000000;\n",
       "        }#T_43b0df5b_8c2c_11eb_87bb_a08869cbf95crow3_col1{\n",
       "            background-color:  #516ddb;\n",
       "            color:  #000000;\n",
       "        }#T_43b0df5b_8c2c_11eb_87bb_a08869cbf95crow3_col2,#T_43b0df5b_8c2c_11eb_87bb_a08869cbf95crow6_col2,#T_43b0df5b_8c2c_11eb_87bb_a08869cbf95crow6_col7{\n",
       "            background-color:  #7093f3;\n",
       "            color:  #000000;\n",
       "        }#T_43b0df5b_8c2c_11eb_87bb_a08869cbf95crow3_col5,#T_43b0df5b_8c2c_11eb_87bb_a08869cbf95crow13_col5{\n",
       "            background-color:  #98b9ff;\n",
       "            color:  #000000;\n",
       "        }#T_43b0df5b_8c2c_11eb_87bb_a08869cbf95crow3_col6{\n",
       "            background-color:  #4257c9;\n",
       "            color:  #f1f1f1;\n",
       "        }#T_43b0df5b_8c2c_11eb_87bb_a08869cbf95crow3_col7,#T_43b0df5b_8c2c_11eb_87bb_a08869cbf95crow5_col9{\n",
       "            background-color:  #5470de;\n",
       "            color:  #000000;\n",
       "        }#T_43b0df5b_8c2c_11eb_87bb_a08869cbf95crow3_col10,#T_43b0df5b_8c2c_11eb_87bb_a08869cbf95crow5_col10{\n",
       "            background-color:  #4055c8;\n",
       "            color:  #f1f1f1;\n",
       "        }#T_43b0df5b_8c2c_11eb_87bb_a08869cbf95crow3_col11,#T_43b0df5b_8c2c_11eb_87bb_a08869cbf95crow7_col12{\n",
       "            background-color:  #81a4fb;\n",
       "            color:  #000000;\n",
       "        }#T_43b0df5b_8c2c_11eb_87bb_a08869cbf95crow4_col0{\n",
       "            background-color:  #adc9fd;\n",
       "            color:  #000000;\n",
       "        }#T_43b0df5b_8c2c_11eb_87bb_a08869cbf95crow4_col2,#T_43b0df5b_8c2c_11eb_87bb_a08869cbf95crow5_col8{\n",
       "            background-color:  #5977e3;\n",
       "            color:  #000000;\n",
       "        }#T_43b0df5b_8c2c_11eb_87bb_a08869cbf95crow4_col3{\n",
       "            background-color:  #93b5fe;\n",
       "            color:  #000000;\n",
       "        }#T_43b0df5b_8c2c_11eb_87bb_a08869cbf95crow4_col5,#T_43b0df5b_8c2c_11eb_87bb_a08869cbf95crow12_col10{\n",
       "            background-color:  #7396f5;\n",
       "            color:  #000000;\n",
       "        }#T_43b0df5b_8c2c_11eb_87bb_a08869cbf95crow4_col6,#T_43b0df5b_8c2c_11eb_87bb_a08869cbf95crow8_col7{\n",
       "            background-color:  #465ecf;\n",
       "            color:  #f1f1f1;\n",
       "        }#T_43b0df5b_8c2c_11eb_87bb_a08869cbf95crow4_col7{\n",
       "            background-color:  #6c8ff1;\n",
       "            color:  #000000;\n",
       "        }#T_43b0df5b_8c2c_11eb_87bb_a08869cbf95crow4_col8{\n",
       "            background-color:  #82a6fb;\n",
       "            color:  #000000;\n",
       "        }#T_43b0df5b_8c2c_11eb_87bb_a08869cbf95crow4_col9{\n",
       "            background-color:  #7ea1fa;\n",
       "            color:  #000000;\n",
       "        }#T_43b0df5b_8c2c_11eb_87bb_a08869cbf95crow4_col10{\n",
       "            background-color:  #6e90f2;\n",
       "            color:  #000000;\n",
       "        }#T_43b0df5b_8c2c_11eb_87bb_a08869cbf95crow4_col11,#T_43b0df5b_8c2c_11eb_87bb_a08869cbf95crow11_col10{\n",
       "            background-color:  #84a7fc;\n",
       "            color:  #000000;\n",
       "        }#T_43b0df5b_8c2c_11eb_87bb_a08869cbf95crow4_col13{\n",
       "            background-color:  #5875e1;\n",
       "            color:  #000000;\n",
       "        }#T_43b0df5b_8c2c_11eb_87bb_a08869cbf95crow5_col0{\n",
       "            background-color:  #779af7;\n",
       "            color:  #000000;\n",
       "        }#T_43b0df5b_8c2c_11eb_87bb_a08869cbf95crow5_col1,#T_43b0df5b_8c2c_11eb_87bb_a08869cbf95crow6_col12{\n",
       "            background-color:  #5f7fe8;\n",
       "            color:  #000000;\n",
       "        }#T_43b0df5b_8c2c_11eb_87bb_a08869cbf95crow5_col3{\n",
       "            background-color:  #89acfd;\n",
       "            color:  #000000;\n",
       "        }#T_43b0df5b_8c2c_11eb_87bb_a08869cbf95crow5_col4,#T_43b0df5b_8c2c_11eb_87bb_a08869cbf95crow9_col13{\n",
       "            background-color:  #5673e0;\n",
       "            color:  #000000;\n",
       "        }#T_43b0df5b_8c2c_11eb_87bb_a08869cbf95crow5_col7,#T_43b0df5b_8c2c_11eb_87bb_a08869cbf95crow6_col8,#T_43b0df5b_8c2c_11eb_87bb_a08869cbf95crow6_col11{\n",
       "            background-color:  #4f69d9;\n",
       "            color:  #000000;\n",
       "        }#T_43b0df5b_8c2c_11eb_87bb_a08869cbf95crow5_col11{\n",
       "            background-color:  #7da0f9;\n",
       "            color:  #000000;\n",
       "        }#T_43b0df5b_8c2c_11eb_87bb_a08869cbf95crow5_col12{\n",
       "            background-color:  #4961d2;\n",
       "            color:  #f1f1f1;\n",
       "        }#T_43b0df5b_8c2c_11eb_87bb_a08869cbf95crow5_col13{\n",
       "            background-color:  #4a63d3;\n",
       "            color:  #f1f1f1;\n",
       "        }#T_43b0df5b_8c2c_11eb_87bb_a08869cbf95crow6_col0,#T_43b0df5b_8c2c_11eb_87bb_a08869cbf95crow8_col2{\n",
       "            background-color:  #4358cb;\n",
       "            color:  #f1f1f1;\n",
       "        }#T_43b0df5b_8c2c_11eb_87bb_a08869cbf95crow6_col1,#T_43b0df5b_8c2c_11eb_87bb_a08869cbf95crow6_col9{\n",
       "            background-color:  #536edd;\n",
       "            color:  #000000;\n",
       "        }#T_43b0df5b_8c2c_11eb_87bb_a08869cbf95crow6_col3,#T_43b0df5b_8c2c_11eb_87bb_a08869cbf95crow13_col11{\n",
       "            background-color:  #445acc;\n",
       "            color:  #f1f1f1;\n",
       "        }#T_43b0df5b_8c2c_11eb_87bb_a08869cbf95crow6_col5{\n",
       "            background-color:  #4b64d5;\n",
       "            color:  #f1f1f1;\n",
       "        }#T_43b0df5b_8c2c_11eb_87bb_a08869cbf95crow6_col13,#T_43b0df5b_8c2c_11eb_87bb_a08869cbf95crow7_col1,#T_43b0df5b_8c2c_11eb_87bb_a08869cbf95crow7_col3{\n",
       "            background-color:  #8db0fe;\n",
       "            color:  #000000;\n",
       "        }#T_43b0df5b_8c2c_11eb_87bb_a08869cbf95crow7_col2,#T_43b0df5b_8c2c_11eb_87bb_a08869cbf95crow9_col0,#T_43b0df5b_8c2c_11eb_87bb_a08869cbf95crow9_col12{\n",
       "            background-color:  #dcdddd;\n",
       "            color:  #000000;\n",
       "        }#T_43b0df5b_8c2c_11eb_87bb_a08869cbf95crow7_col4,#T_43b0df5b_8c2c_11eb_87bb_a08869cbf95crow7_col5{\n",
       "            background-color:  #97b8ff;\n",
       "            color:  #000000;\n",
       "        }#T_43b0df5b_8c2c_11eb_87bb_a08869cbf95crow7_col8{\n",
       "            background-color:  #3e51c5;\n",
       "            color:  #f1f1f1;\n",
       "        }#T_43b0df5b_8c2c_11eb_87bb_a08869cbf95crow7_col9{\n",
       "            background-color:  #455cce;\n",
       "            color:  #f1f1f1;\n",
       "        }#T_43b0df5b_8c2c_11eb_87bb_a08869cbf95crow7_col10{\n",
       "            background-color:  #ebd3c6;\n",
       "            color:  #000000;\n",
       "        }#T_43b0df5b_8c2c_11eb_87bb_a08869cbf95crow7_col11{\n",
       "            background-color:  #6384eb;\n",
       "            color:  #000000;\n",
       "        }#T_43b0df5b_8c2c_11eb_87bb_a08869cbf95crow7_col13{\n",
       "            background-color:  #f0cdbb;\n",
       "            color:  #000000;\n",
       "        }#T_43b0df5b_8c2c_11eb_87bb_a08869cbf95crow8_col1{\n",
       "            background-color:  #c1d4f4;\n",
       "            color:  #000000;\n",
       "        }#T_43b0df5b_8c2c_11eb_87bb_a08869cbf95crow8_col5{\n",
       "            background-color:  #a6c4fe;\n",
       "            color:  #000000;\n",
       "        }#T_43b0df5b_8c2c_11eb_87bb_a08869cbf95crow8_col9,#T_43b0df5b_8c2c_11eb_87bb_a08869cbf95crow9_col11{\n",
       "            background-color:  #dedcdb;\n",
       "            color:  #000000;\n",
       "        }#T_43b0df5b_8c2c_11eb_87bb_a08869cbf95crow8_col12{\n",
       "            background-color:  #cedaeb;\n",
       "            color:  #000000;\n",
       "        }#T_43b0df5b_8c2c_11eb_87bb_a08869cbf95crow9_col1{\n",
       "            background-color:  #c9d7f0;\n",
       "            color:  #000000;\n",
       "        }#T_43b0df5b_8c2c_11eb_87bb_a08869cbf95crow9_col2{\n",
       "            background-color:  #94b6ff;\n",
       "            color:  #000000;\n",
       "        }#T_43b0df5b_8c2c_11eb_87bb_a08869cbf95crow9_col3{\n",
       "            background-color:  #dadce0;\n",
       "            color:  #000000;\n",
       "        }#T_43b0df5b_8c2c_11eb_87bb_a08869cbf95crow9_col4,#T_43b0df5b_8c2c_11eb_87bb_a08869cbf95crow13_col6{\n",
       "            background-color:  #c0d4f5;\n",
       "            color:  #000000;\n",
       "        }#T_43b0df5b_8c2c_11eb_87bb_a08869cbf95crow9_col7,#T_43b0df5b_8c2c_11eb_87bb_a08869cbf95crow13_col0{\n",
       "            background-color:  #688aef;\n",
       "            color:  #000000;\n",
       "        }#T_43b0df5b_8c2c_11eb_87bb_a08869cbf95crow9_col8{\n",
       "            background-color:  #e9d5cb;\n",
       "            color:  #000000;\n",
       "        }#T_43b0df5b_8c2c_11eb_87bb_a08869cbf95crow10_col0{\n",
       "            background-color:  #90b2fe;\n",
       "            color:  #000000;\n",
       "        }#T_43b0df5b_8c2c_11eb_87bb_a08869cbf95crow10_col1{\n",
       "            background-color:  #aec9fc;\n",
       "            color:  #000000;\n",
       "        }#T_43b0df5b_8c2c_11eb_87bb_a08869cbf95crow10_col2,#T_43b0df5b_8c2c_11eb_87bb_a08869cbf95crow11_col9{\n",
       "            background-color:  #cdd9ec;\n",
       "            color:  #000000;\n",
       "        }#T_43b0df5b_8c2c_11eb_87bb_a08869cbf95crow10_col3{\n",
       "            background-color:  #9bbcff;\n",
       "            color:  #000000;\n",
       "        }#T_43b0df5b_8c2c_11eb_87bb_a08869cbf95crow10_col4,#T_43b0df5b_8c2c_11eb_87bb_a08869cbf95crow11_col1,#T_43b0df5b_8c2c_11eb_87bb_a08869cbf95crow11_col8{\n",
       "            background-color:  #b5cdfa;\n",
       "            color:  #000000;\n",
       "        }#T_43b0df5b_8c2c_11eb_87bb_a08869cbf95crow10_col6{\n",
       "            background-color:  #c7d7f0;\n",
       "            color:  #000000;\n",
       "        }#T_43b0df5b_8c2c_11eb_87bb_a08869cbf95crow10_col7{\n",
       "            background-color:  #f3c8b2;\n",
       "            color:  #000000;\n",
       "        }#T_43b0df5b_8c2c_11eb_87bb_a08869cbf95crow10_col12{\n",
       "            background-color:  #9ebeff;\n",
       "            color:  #000000;\n",
       "        }#T_43b0df5b_8c2c_11eb_87bb_a08869cbf95crow10_col13{\n",
       "            background-color:  #efcebd;\n",
       "            color:  #000000;\n",
       "        }#T_43b0df5b_8c2c_11eb_87bb_a08869cbf95crow11_col0{\n",
       "            background-color:  #d7dce3;\n",
       "            color:  #000000;\n",
       "        }#T_43b0df5b_8c2c_11eb_87bb_a08869cbf95crow11_col2{\n",
       "            background-color:  #6a8bef;\n",
       "            color:  #000000;\n",
       "        }#T_43b0df5b_8c2c_11eb_87bb_a08869cbf95crow11_col5{\n",
       "            background-color:  #bad0f8;\n",
       "            color:  #000000;\n",
       "        }#T_43b0df5b_8c2c_11eb_87bb_a08869cbf95crow11_col7{\n",
       "            background-color:  #6282ea;\n",
       "            color:  #000000;\n",
       "        }#T_43b0df5b_8c2c_11eb_87bb_a08869cbf95crow11_col12{\n",
       "            background-color:  #bcd2f7;\n",
       "            color:  #000000;\n",
       "        }#T_43b0df5b_8c2c_11eb_87bb_a08869cbf95crow12_col0{\n",
       "            background-color:  #a1c0ff;\n",
       "            color:  #000000;\n",
       "        }#T_43b0df5b_8c2c_11eb_87bb_a08869cbf95crow12_col1,#T_43b0df5b_8c2c_11eb_87bb_a08869cbf95crow12_col9{\n",
       "            background-color:  #c4d5f3;\n",
       "            color:  #000000;\n",
       "        }#T_43b0df5b_8c2c_11eb_87bb_a08869cbf95crow12_col2{\n",
       "            background-color:  #6485ec;\n",
       "            color:  #000000;\n",
       "        }#T_43b0df5b_8c2c_11eb_87bb_a08869cbf95crow12_col3{\n",
       "            background-color:  #9fbfff;\n",
       "            color:  #000000;\n",
       "        }#T_43b0df5b_8c2c_11eb_87bb_a08869cbf95crow12_col8{\n",
       "            background-color:  #c3d5f4;\n",
       "            color:  #000000;\n",
       "        }#T_43b0df5b_8c2c_11eb_87bb_a08869cbf95crow13_col1{\n",
       "            background-color:  #5b7ae5;\n",
       "            color:  #000000;\n",
       "        }#T_43b0df5b_8c2c_11eb_87bb_a08869cbf95crow13_col2{\n",
       "            background-color:  #f2c9b4;\n",
       "            color:  #000000;\n",
       "        }#T_43b0df5b_8c2c_11eb_87bb_a08869cbf95crow13_col4{\n",
       "            background-color:  #8badfd;\n",
       "            color:  #000000;\n",
       "        }#T_43b0df5b_8c2c_11eb_87bb_a08869cbf95crow13_col9{\n",
       "            background-color:  #3c4ec2;\n",
       "            color:  #f1f1f1;\n",
       "        }#T_43b0df5b_8c2c_11eb_87bb_a08869cbf95crow13_col10{\n",
       "            background-color:  #e8d6cc;\n",
       "            color:  #000000;\n",
       "        }</style><table id=\"T_43b0df5b_8c2c_11eb_87bb_a08869cbf95c\" ><thead>    <tr>        <th class=\"blank level0\" ></th>        <th class=\"col_heading level0 col0\" >age</th>        <th class=\"col_heading level0 col1\" >sex</th>        <th class=\"col_heading level0 col2\" >cp</th>        <th class=\"col_heading level0 col3\" >trestbps</th>        <th class=\"col_heading level0 col4\" >chol</th>        <th class=\"col_heading level0 col5\" >fbs</th>        <th class=\"col_heading level0 col6\" >restecg</th>        <th class=\"col_heading level0 col7\" >thalach</th>        <th class=\"col_heading level0 col8\" >exang</th>        <th class=\"col_heading level0 col9\" >oldpeak</th>        <th class=\"col_heading level0 col10\" >slope</th>        <th class=\"col_heading level0 col11\" >ca</th>        <th class=\"col_heading level0 col12\" >thal</th>        <th class=\"col_heading level0 col13\" >target</th>    </tr></thead><tbody>\n",
       "                <tr>\n",
       "                        <th id=\"T_43b0df5b_8c2c_11eb_87bb_a08869cbf95clevel0_row0\" class=\"row_heading level0 row0\" >age</th>\n",
       "                        <td id=\"T_43b0df5b_8c2c_11eb_87bb_a08869cbf95crow0_col0\" class=\"data row0 col0\" >1.0</td>\n",
       "                        <td id=\"T_43b0df5b_8c2c_11eb_87bb_a08869cbf95crow0_col1\" class=\"data row0 col1\" >-0.098</td>\n",
       "                        <td id=\"T_43b0df5b_8c2c_11eb_87bb_a08869cbf95crow0_col2\" class=\"data row0 col2\" >-0.069</td>\n",
       "                        <td id=\"T_43b0df5b_8c2c_11eb_87bb_a08869cbf95crow0_col3\" class=\"data row0 col3\" >0.28</td>\n",
       "                        <td id=\"T_43b0df5b_8c2c_11eb_87bb_a08869cbf95crow0_col4\" class=\"data row0 col4\" >0.21</td>\n",
       "                        <td id=\"T_43b0df5b_8c2c_11eb_87bb_a08869cbf95crow0_col5\" class=\"data row0 col5\" >0.12</td>\n",
       "                        <td id=\"T_43b0df5b_8c2c_11eb_87bb_a08869cbf95crow0_col6\" class=\"data row0 col6\" >-0.12</td>\n",
       "                        <td id=\"T_43b0df5b_8c2c_11eb_87bb_a08869cbf95crow0_col7\" class=\"data row0 col7\" >-0.4</td>\n",
       "                        <td id=\"T_43b0df5b_8c2c_11eb_87bb_a08869cbf95crow0_col8\" class=\"data row0 col8\" >0.097</td>\n",
       "                        <td id=\"T_43b0df5b_8c2c_11eb_87bb_a08869cbf95crow0_col9\" class=\"data row0 col9\" >0.21</td>\n",
       "                        <td id=\"T_43b0df5b_8c2c_11eb_87bb_a08869cbf95crow0_col10\" class=\"data row0 col10\" >-0.17</td>\n",
       "                        <td id=\"T_43b0df5b_8c2c_11eb_87bb_a08869cbf95crow0_col11\" class=\"data row0 col11\" >0.28</td>\n",
       "                        <td id=\"T_43b0df5b_8c2c_11eb_87bb_a08869cbf95crow0_col12\" class=\"data row0 col12\" >0.068</td>\n",
       "                        <td id=\"T_43b0df5b_8c2c_11eb_87bb_a08869cbf95crow0_col13\" class=\"data row0 col13\" >-0.23</td>\n",
       "            </tr>\n",
       "            <tr>\n",
       "                        <th id=\"T_43b0df5b_8c2c_11eb_87bb_a08869cbf95clevel0_row1\" class=\"row_heading level0 row1\" >sex</th>\n",
       "                        <td id=\"T_43b0df5b_8c2c_11eb_87bb_a08869cbf95crow1_col0\" class=\"data row1 col0\" >-0.098</td>\n",
       "                        <td id=\"T_43b0df5b_8c2c_11eb_87bb_a08869cbf95crow1_col1\" class=\"data row1 col1\" >1.0</td>\n",
       "                        <td id=\"T_43b0df5b_8c2c_11eb_87bb_a08869cbf95crow1_col2\" class=\"data row1 col2\" >-0.049</td>\n",
       "                        <td id=\"T_43b0df5b_8c2c_11eb_87bb_a08869cbf95crow1_col3\" class=\"data row1 col3\" >-0.057</td>\n",
       "                        <td id=\"T_43b0df5b_8c2c_11eb_87bb_a08869cbf95crow1_col4\" class=\"data row1 col4\" >-0.2</td>\n",
       "                        <td id=\"T_43b0df5b_8c2c_11eb_87bb_a08869cbf95crow1_col5\" class=\"data row1 col5\" >0.045</td>\n",
       "                        <td id=\"T_43b0df5b_8c2c_11eb_87bb_a08869cbf95crow1_col6\" class=\"data row1 col6\" >-0.058</td>\n",
       "                        <td id=\"T_43b0df5b_8c2c_11eb_87bb_a08869cbf95crow1_col7\" class=\"data row1 col7\" >-0.044</td>\n",
       "                        <td id=\"T_43b0df5b_8c2c_11eb_87bb_a08869cbf95crow1_col8\" class=\"data row1 col8\" >0.14</td>\n",
       "                        <td id=\"T_43b0df5b_8c2c_11eb_87bb_a08869cbf95crow1_col9\" class=\"data row1 col9\" >0.096</td>\n",
       "                        <td id=\"T_43b0df5b_8c2c_11eb_87bb_a08869cbf95crow1_col10\" class=\"data row1 col10\" >-0.031</td>\n",
       "                        <td id=\"T_43b0df5b_8c2c_11eb_87bb_a08869cbf95crow1_col11\" class=\"data row1 col11\" >0.12</td>\n",
       "                        <td id=\"T_43b0df5b_8c2c_11eb_87bb_a08869cbf95crow1_col12\" class=\"data row1 col12\" >0.21</td>\n",
       "                        <td id=\"T_43b0df5b_8c2c_11eb_87bb_a08869cbf95crow1_col13\" class=\"data row1 col13\" >-0.28</td>\n",
       "            </tr>\n",
       "            <tr>\n",
       "                        <th id=\"T_43b0df5b_8c2c_11eb_87bb_a08869cbf95clevel0_row2\" class=\"row_heading level0 row2\" >cp</th>\n",
       "                        <td id=\"T_43b0df5b_8c2c_11eb_87bb_a08869cbf95crow2_col0\" class=\"data row2 col0\" >-0.069</td>\n",
       "                        <td id=\"T_43b0df5b_8c2c_11eb_87bb_a08869cbf95crow2_col1\" class=\"data row2 col1\" >-0.049</td>\n",
       "                        <td id=\"T_43b0df5b_8c2c_11eb_87bb_a08869cbf95crow2_col2\" class=\"data row2 col2\" >1.0</td>\n",
       "                        <td id=\"T_43b0df5b_8c2c_11eb_87bb_a08869cbf95crow2_col3\" class=\"data row2 col3\" >0.048</td>\n",
       "                        <td id=\"T_43b0df5b_8c2c_11eb_87bb_a08869cbf95crow2_col4\" class=\"data row2 col4\" >-0.077</td>\n",
       "                        <td id=\"T_43b0df5b_8c2c_11eb_87bb_a08869cbf95crow2_col5\" class=\"data row2 col5\" >0.094</td>\n",
       "                        <td id=\"T_43b0df5b_8c2c_11eb_87bb_a08869cbf95crow2_col6\" class=\"data row2 col6\" >0.044</td>\n",
       "                        <td id=\"T_43b0df5b_8c2c_11eb_87bb_a08869cbf95crow2_col7\" class=\"data row2 col7\" >0.3</td>\n",
       "                        <td id=\"T_43b0df5b_8c2c_11eb_87bb_a08869cbf95crow2_col8\" class=\"data row2 col8\" >-0.39</td>\n",
       "                        <td id=\"T_43b0df5b_8c2c_11eb_87bb_a08869cbf95crow2_col9\" class=\"data row2 col9\" >-0.15</td>\n",
       "                        <td id=\"T_43b0df5b_8c2c_11eb_87bb_a08869cbf95crow2_col10\" class=\"data row2 col10\" >0.12</td>\n",
       "                        <td id=\"T_43b0df5b_8c2c_11eb_87bb_a08869cbf95crow2_col11\" class=\"data row2 col11\" >-0.18</td>\n",
       "                        <td id=\"T_43b0df5b_8c2c_11eb_87bb_a08869cbf95crow2_col12\" class=\"data row2 col12\" >-0.16</td>\n",
       "                        <td id=\"T_43b0df5b_8c2c_11eb_87bb_a08869cbf95crow2_col13\" class=\"data row2 col13\" >0.43</td>\n",
       "            </tr>\n",
       "            <tr>\n",
       "                        <th id=\"T_43b0df5b_8c2c_11eb_87bb_a08869cbf95clevel0_row3\" class=\"row_heading level0 row3\" >trestbps</th>\n",
       "                        <td id=\"T_43b0df5b_8c2c_11eb_87bb_a08869cbf95crow3_col0\" class=\"data row3 col0\" >0.28</td>\n",
       "                        <td id=\"T_43b0df5b_8c2c_11eb_87bb_a08869cbf95crow3_col1\" class=\"data row3 col1\" >-0.057</td>\n",
       "                        <td id=\"T_43b0df5b_8c2c_11eb_87bb_a08869cbf95crow3_col2\" class=\"data row3 col2\" >0.048</td>\n",
       "                        <td id=\"T_43b0df5b_8c2c_11eb_87bb_a08869cbf95crow3_col3\" class=\"data row3 col3\" >1.0</td>\n",
       "                        <td id=\"T_43b0df5b_8c2c_11eb_87bb_a08869cbf95crow3_col4\" class=\"data row3 col4\" >0.12</td>\n",
       "                        <td id=\"T_43b0df5b_8c2c_11eb_87bb_a08869cbf95crow3_col5\" class=\"data row3 col5\" >0.18</td>\n",
       "                        <td id=\"T_43b0df5b_8c2c_11eb_87bb_a08869cbf95crow3_col6\" class=\"data row3 col6\" >-0.11</td>\n",
       "                        <td id=\"T_43b0df5b_8c2c_11eb_87bb_a08869cbf95crow3_col7\" class=\"data row3 col7\" >-0.047</td>\n",
       "                        <td id=\"T_43b0df5b_8c2c_11eb_87bb_a08869cbf95crow3_col8\" class=\"data row3 col8\" >0.068</td>\n",
       "                        <td id=\"T_43b0df5b_8c2c_11eb_87bb_a08869cbf95crow3_col9\" class=\"data row3 col9\" >0.19</td>\n",
       "                        <td id=\"T_43b0df5b_8c2c_11eb_87bb_a08869cbf95crow3_col10\" class=\"data row3 col10\" >-0.12</td>\n",
       "                        <td id=\"T_43b0df5b_8c2c_11eb_87bb_a08869cbf95crow3_col11\" class=\"data row3 col11\" >0.1</td>\n",
       "                        <td id=\"T_43b0df5b_8c2c_11eb_87bb_a08869cbf95crow3_col12\" class=\"data row3 col12\" >0.062</td>\n",
       "                        <td id=\"T_43b0df5b_8c2c_11eb_87bb_a08869cbf95crow3_col13\" class=\"data row3 col13\" >-0.14</td>\n",
       "            </tr>\n",
       "            <tr>\n",
       "                        <th id=\"T_43b0df5b_8c2c_11eb_87bb_a08869cbf95clevel0_row4\" class=\"row_heading level0 row4\" >chol</th>\n",
       "                        <td id=\"T_43b0df5b_8c2c_11eb_87bb_a08869cbf95crow4_col0\" class=\"data row4 col0\" >0.21</td>\n",
       "                        <td id=\"T_43b0df5b_8c2c_11eb_87bb_a08869cbf95crow4_col1\" class=\"data row4 col1\" >-0.2</td>\n",
       "                        <td id=\"T_43b0df5b_8c2c_11eb_87bb_a08869cbf95crow4_col2\" class=\"data row4 col2\" >-0.077</td>\n",
       "                        <td id=\"T_43b0df5b_8c2c_11eb_87bb_a08869cbf95crow4_col3\" class=\"data row4 col3\" >0.12</td>\n",
       "                        <td id=\"T_43b0df5b_8c2c_11eb_87bb_a08869cbf95crow4_col4\" class=\"data row4 col4\" >1.0</td>\n",
       "                        <td id=\"T_43b0df5b_8c2c_11eb_87bb_a08869cbf95crow4_col5\" class=\"data row4 col5\" >0.013</td>\n",
       "                        <td id=\"T_43b0df5b_8c2c_11eb_87bb_a08869cbf95crow4_col6\" class=\"data row4 col6\" >-0.15</td>\n",
       "                        <td id=\"T_43b0df5b_8c2c_11eb_87bb_a08869cbf95crow4_col7\" class=\"data row4 col7\" >-0.0099</td>\n",
       "                        <td id=\"T_43b0df5b_8c2c_11eb_87bb_a08869cbf95crow4_col8\" class=\"data row4 col8\" >0.067</td>\n",
       "                        <td id=\"T_43b0df5b_8c2c_11eb_87bb_a08869cbf95crow4_col9\" class=\"data row4 col9\" >0.054</td>\n",
       "                        <td id=\"T_43b0df5b_8c2c_11eb_87bb_a08869cbf95crow4_col10\" class=\"data row4 col10\" >-0.004</td>\n",
       "                        <td id=\"T_43b0df5b_8c2c_11eb_87bb_a08869cbf95crow4_col11\" class=\"data row4 col11\" >0.071</td>\n",
       "                        <td id=\"T_43b0df5b_8c2c_11eb_87bb_a08869cbf95crow4_col12\" class=\"data row4 col12\" >0.099</td>\n",
       "                        <td id=\"T_43b0df5b_8c2c_11eb_87bb_a08869cbf95crow4_col13\" class=\"data row4 col13\" >-0.085</td>\n",
       "            </tr>\n",
       "            <tr>\n",
       "                        <th id=\"T_43b0df5b_8c2c_11eb_87bb_a08869cbf95clevel0_row5\" class=\"row_heading level0 row5\" >fbs</th>\n",
       "                        <td id=\"T_43b0df5b_8c2c_11eb_87bb_a08869cbf95crow5_col0\" class=\"data row5 col0\" >0.12</td>\n",
       "                        <td id=\"T_43b0df5b_8c2c_11eb_87bb_a08869cbf95crow5_col1\" class=\"data row5 col1\" >0.045</td>\n",
       "                        <td id=\"T_43b0df5b_8c2c_11eb_87bb_a08869cbf95crow5_col2\" class=\"data row5 col2\" >0.094</td>\n",
       "                        <td id=\"T_43b0df5b_8c2c_11eb_87bb_a08869cbf95crow5_col3\" class=\"data row5 col3\" >0.18</td>\n",
       "                        <td id=\"T_43b0df5b_8c2c_11eb_87bb_a08869cbf95crow5_col4\" class=\"data row5 col4\" >0.013</td>\n",
       "                        <td id=\"T_43b0df5b_8c2c_11eb_87bb_a08869cbf95crow5_col5\" class=\"data row5 col5\" >1.0</td>\n",
       "                        <td id=\"T_43b0df5b_8c2c_11eb_87bb_a08869cbf95crow5_col6\" class=\"data row5 col6\" >-0.084</td>\n",
       "                        <td id=\"T_43b0df5b_8c2c_11eb_87bb_a08869cbf95crow5_col7\" class=\"data row5 col7\" >-0.0086</td>\n",
       "                        <td id=\"T_43b0df5b_8c2c_11eb_87bb_a08869cbf95crow5_col8\" class=\"data row5 col8\" >0.026</td>\n",
       "                        <td id=\"T_43b0df5b_8c2c_11eb_87bb_a08869cbf95crow5_col9\" class=\"data row5 col9\" >0.0057</td>\n",
       "                        <td id=\"T_43b0df5b_8c2c_11eb_87bb_a08869cbf95crow5_col10\" class=\"data row5 col10\" >-0.06</td>\n",
       "                        <td id=\"T_43b0df5b_8c2c_11eb_87bb_a08869cbf95crow5_col11\" class=\"data row5 col11\" >0.14</td>\n",
       "                        <td id=\"T_43b0df5b_8c2c_11eb_87bb_a08869cbf95crow5_col12\" class=\"data row5 col12\" >-0.032</td>\n",
       "                        <td id=\"T_43b0df5b_8c2c_11eb_87bb_a08869cbf95crow5_col13\" class=\"data row5 col13\" >-0.028</td>\n",
       "            </tr>\n",
       "            <tr>\n",
       "                        <th id=\"T_43b0df5b_8c2c_11eb_87bb_a08869cbf95clevel0_row6\" class=\"row_heading level0 row6\" >restecg</th>\n",
       "                        <td id=\"T_43b0df5b_8c2c_11eb_87bb_a08869cbf95crow6_col0\" class=\"data row6 col0\" >-0.12</td>\n",
       "                        <td id=\"T_43b0df5b_8c2c_11eb_87bb_a08869cbf95crow6_col1\" class=\"data row6 col1\" >-0.058</td>\n",
       "                        <td id=\"T_43b0df5b_8c2c_11eb_87bb_a08869cbf95crow6_col2\" class=\"data row6 col2\" >0.044</td>\n",
       "                        <td id=\"T_43b0df5b_8c2c_11eb_87bb_a08869cbf95crow6_col3\" class=\"data row6 col3\" >-0.11</td>\n",
       "                        <td id=\"T_43b0df5b_8c2c_11eb_87bb_a08869cbf95crow6_col4\" class=\"data row6 col4\" >-0.15</td>\n",
       "                        <td id=\"T_43b0df5b_8c2c_11eb_87bb_a08869cbf95crow6_col5\" class=\"data row6 col5\" >-0.084</td>\n",
       "                        <td id=\"T_43b0df5b_8c2c_11eb_87bb_a08869cbf95crow6_col6\" class=\"data row6 col6\" >1.0</td>\n",
       "                        <td id=\"T_43b0df5b_8c2c_11eb_87bb_a08869cbf95crow6_col7\" class=\"data row6 col7\" >0.044</td>\n",
       "                        <td id=\"T_43b0df5b_8c2c_11eb_87bb_a08869cbf95crow6_col8\" class=\"data row6 col8\" >-0.071</td>\n",
       "                        <td id=\"T_43b0df5b_8c2c_11eb_87bb_a08869cbf95crow6_col9\" class=\"data row6 col9\" >-0.059</td>\n",
       "                        <td id=\"T_43b0df5b_8c2c_11eb_87bb_a08869cbf95crow6_col10\" class=\"data row6 col10\" >0.093</td>\n",
       "                        <td id=\"T_43b0df5b_8c2c_11eb_87bb_a08869cbf95crow6_col11\" class=\"data row6 col11\" >-0.072</td>\n",
       "                        <td id=\"T_43b0df5b_8c2c_11eb_87bb_a08869cbf95crow6_col12\" class=\"data row6 col12\" >-0.012</td>\n",
       "                        <td id=\"T_43b0df5b_8c2c_11eb_87bb_a08869cbf95crow6_col13\" class=\"data row6 col13\" >0.14</td>\n",
       "            </tr>\n",
       "            <tr>\n",
       "                        <th id=\"T_43b0df5b_8c2c_11eb_87bb_a08869cbf95clevel0_row7\" class=\"row_heading level0 row7\" >thalach</th>\n",
       "                        <td id=\"T_43b0df5b_8c2c_11eb_87bb_a08869cbf95crow7_col0\" class=\"data row7 col0\" >-0.4</td>\n",
       "                        <td id=\"T_43b0df5b_8c2c_11eb_87bb_a08869cbf95crow7_col1\" class=\"data row7 col1\" >-0.044</td>\n",
       "                        <td id=\"T_43b0df5b_8c2c_11eb_87bb_a08869cbf95crow7_col2\" class=\"data row7 col2\" >0.3</td>\n",
       "                        <td id=\"T_43b0df5b_8c2c_11eb_87bb_a08869cbf95crow7_col3\" class=\"data row7 col3\" >-0.047</td>\n",
       "                        <td id=\"T_43b0df5b_8c2c_11eb_87bb_a08869cbf95crow7_col4\" class=\"data row7 col4\" >-0.0099</td>\n",
       "                        <td id=\"T_43b0df5b_8c2c_11eb_87bb_a08869cbf95crow7_col5\" class=\"data row7 col5\" >-0.0086</td>\n",
       "                        <td id=\"T_43b0df5b_8c2c_11eb_87bb_a08869cbf95crow7_col6\" class=\"data row7 col6\" >0.044</td>\n",
       "                        <td id=\"T_43b0df5b_8c2c_11eb_87bb_a08869cbf95crow7_col7\" class=\"data row7 col7\" >1.0</td>\n",
       "                        <td id=\"T_43b0df5b_8c2c_11eb_87bb_a08869cbf95crow7_col8\" class=\"data row7 col8\" >-0.38</td>\n",
       "                        <td id=\"T_43b0df5b_8c2c_11eb_87bb_a08869cbf95crow7_col9\" class=\"data row7 col9\" >-0.34</td>\n",
       "                        <td id=\"T_43b0df5b_8c2c_11eb_87bb_a08869cbf95crow7_col10\" class=\"data row7 col10\" >0.39</td>\n",
       "                        <td id=\"T_43b0df5b_8c2c_11eb_87bb_a08869cbf95crow7_col11\" class=\"data row7 col11\" >-0.21</td>\n",
       "                        <td id=\"T_43b0df5b_8c2c_11eb_87bb_a08869cbf95crow7_col12\" class=\"data row7 col12\" >-0.096</td>\n",
       "                        <td id=\"T_43b0df5b_8c2c_11eb_87bb_a08869cbf95crow7_col13\" class=\"data row7 col13\" >0.42</td>\n",
       "            </tr>\n",
       "            <tr>\n",
       "                        <th id=\"T_43b0df5b_8c2c_11eb_87bb_a08869cbf95clevel0_row8\" class=\"row_heading level0 row8\" >exang</th>\n",
       "                        <td id=\"T_43b0df5b_8c2c_11eb_87bb_a08869cbf95crow8_col0\" class=\"data row8 col0\" >0.097</td>\n",
       "                        <td id=\"T_43b0df5b_8c2c_11eb_87bb_a08869cbf95crow8_col1\" class=\"data row8 col1\" >0.14</td>\n",
       "                        <td id=\"T_43b0df5b_8c2c_11eb_87bb_a08869cbf95crow8_col2\" class=\"data row8 col2\" >-0.39</td>\n",
       "                        <td id=\"T_43b0df5b_8c2c_11eb_87bb_a08869cbf95crow8_col3\" class=\"data row8 col3\" >0.068</td>\n",
       "                        <td id=\"T_43b0df5b_8c2c_11eb_87bb_a08869cbf95crow8_col4\" class=\"data row8 col4\" >0.067</td>\n",
       "                        <td id=\"T_43b0df5b_8c2c_11eb_87bb_a08869cbf95crow8_col5\" class=\"data row8 col5\" >0.026</td>\n",
       "                        <td id=\"T_43b0df5b_8c2c_11eb_87bb_a08869cbf95crow8_col6\" class=\"data row8 col6\" >-0.071</td>\n",
       "                        <td id=\"T_43b0df5b_8c2c_11eb_87bb_a08869cbf95crow8_col7\" class=\"data row8 col7\" >-0.38</td>\n",
       "                        <td id=\"T_43b0df5b_8c2c_11eb_87bb_a08869cbf95crow8_col8\" class=\"data row8 col8\" >1.0</td>\n",
       "                        <td id=\"T_43b0df5b_8c2c_11eb_87bb_a08869cbf95crow8_col9\" class=\"data row8 col9\" >0.29</td>\n",
       "                        <td id=\"T_43b0df5b_8c2c_11eb_87bb_a08869cbf95crow8_col10\" class=\"data row8 col10\" >-0.26</td>\n",
       "                        <td id=\"T_43b0df5b_8c2c_11eb_87bb_a08869cbf95crow8_col11\" class=\"data row8 col11\" >0.12</td>\n",
       "                        <td id=\"T_43b0df5b_8c2c_11eb_87bb_a08869cbf95crow8_col12\" class=\"data row8 col12\" >0.21</td>\n",
       "                        <td id=\"T_43b0df5b_8c2c_11eb_87bb_a08869cbf95crow8_col13\" class=\"data row8 col13\" >-0.44</td>\n",
       "            </tr>\n",
       "            <tr>\n",
       "                        <th id=\"T_43b0df5b_8c2c_11eb_87bb_a08869cbf95clevel0_row9\" class=\"row_heading level0 row9\" >oldpeak</th>\n",
       "                        <td id=\"T_43b0df5b_8c2c_11eb_87bb_a08869cbf95crow9_col0\" class=\"data row9 col0\" >0.21</td>\n",
       "                        <td id=\"T_43b0df5b_8c2c_11eb_87bb_a08869cbf95crow9_col1\" class=\"data row9 col1\" >0.096</td>\n",
       "                        <td id=\"T_43b0df5b_8c2c_11eb_87bb_a08869cbf95crow9_col2\" class=\"data row9 col2\" >-0.15</td>\n",
       "                        <td id=\"T_43b0df5b_8c2c_11eb_87bb_a08869cbf95crow9_col3\" class=\"data row9 col3\" >0.19</td>\n",
       "                        <td id=\"T_43b0df5b_8c2c_11eb_87bb_a08869cbf95crow9_col4\" class=\"data row9 col4\" >0.054</td>\n",
       "                        <td id=\"T_43b0df5b_8c2c_11eb_87bb_a08869cbf95crow9_col5\" class=\"data row9 col5\" >0.0057</td>\n",
       "                        <td id=\"T_43b0df5b_8c2c_11eb_87bb_a08869cbf95crow9_col6\" class=\"data row9 col6\" >-0.059</td>\n",
       "                        <td id=\"T_43b0df5b_8c2c_11eb_87bb_a08869cbf95crow9_col7\" class=\"data row9 col7\" >-0.34</td>\n",
       "                        <td id=\"T_43b0df5b_8c2c_11eb_87bb_a08869cbf95crow9_col8\" class=\"data row9 col8\" >0.29</td>\n",
       "                        <td id=\"T_43b0df5b_8c2c_11eb_87bb_a08869cbf95crow9_col9\" class=\"data row9 col9\" >1.0</td>\n",
       "                        <td id=\"T_43b0df5b_8c2c_11eb_87bb_a08869cbf95crow9_col10\" class=\"data row9 col10\" >-0.58</td>\n",
       "                        <td id=\"T_43b0df5b_8c2c_11eb_87bb_a08869cbf95crow9_col11\" class=\"data row9 col11\" >0.22</td>\n",
       "                        <td id=\"T_43b0df5b_8c2c_11eb_87bb_a08869cbf95crow9_col12\" class=\"data row9 col12\" >0.21</td>\n",
       "                        <td id=\"T_43b0df5b_8c2c_11eb_87bb_a08869cbf95crow9_col13\" class=\"data row9 col13\" >-0.43</td>\n",
       "            </tr>\n",
       "            <tr>\n",
       "                        <th id=\"T_43b0df5b_8c2c_11eb_87bb_a08869cbf95clevel0_row10\" class=\"row_heading level0 row10\" >slope</th>\n",
       "                        <td id=\"T_43b0df5b_8c2c_11eb_87bb_a08869cbf95crow10_col0\" class=\"data row10 col0\" >-0.17</td>\n",
       "                        <td id=\"T_43b0df5b_8c2c_11eb_87bb_a08869cbf95crow10_col1\" class=\"data row10 col1\" >-0.031</td>\n",
       "                        <td id=\"T_43b0df5b_8c2c_11eb_87bb_a08869cbf95crow10_col2\" class=\"data row10 col2\" >0.12</td>\n",
       "                        <td id=\"T_43b0df5b_8c2c_11eb_87bb_a08869cbf95crow10_col3\" class=\"data row10 col3\" >-0.12</td>\n",
       "                        <td id=\"T_43b0df5b_8c2c_11eb_87bb_a08869cbf95crow10_col4\" class=\"data row10 col4\" >-0.004</td>\n",
       "                        <td id=\"T_43b0df5b_8c2c_11eb_87bb_a08869cbf95crow10_col5\" class=\"data row10 col5\" >-0.06</td>\n",
       "                        <td id=\"T_43b0df5b_8c2c_11eb_87bb_a08869cbf95crow10_col6\" class=\"data row10 col6\" >0.093</td>\n",
       "                        <td id=\"T_43b0df5b_8c2c_11eb_87bb_a08869cbf95crow10_col7\" class=\"data row10 col7\" >0.39</td>\n",
       "                        <td id=\"T_43b0df5b_8c2c_11eb_87bb_a08869cbf95crow10_col8\" class=\"data row10 col8\" >-0.26</td>\n",
       "                        <td id=\"T_43b0df5b_8c2c_11eb_87bb_a08869cbf95crow10_col9\" class=\"data row10 col9\" >-0.58</td>\n",
       "                        <td id=\"T_43b0df5b_8c2c_11eb_87bb_a08869cbf95crow10_col10\" class=\"data row10 col10\" >1.0</td>\n",
       "                        <td id=\"T_43b0df5b_8c2c_11eb_87bb_a08869cbf95crow10_col11\" class=\"data row10 col11\" >-0.08</td>\n",
       "                        <td id=\"T_43b0df5b_8c2c_11eb_87bb_a08869cbf95crow10_col12\" class=\"data row10 col12\" >-0.1</td>\n",
       "                        <td id=\"T_43b0df5b_8c2c_11eb_87bb_a08869cbf95crow10_col13\" class=\"data row10 col13\" >0.35</td>\n",
       "            </tr>\n",
       "            <tr>\n",
       "                        <th id=\"T_43b0df5b_8c2c_11eb_87bb_a08869cbf95clevel0_row11\" class=\"row_heading level0 row11\" >ca</th>\n",
       "                        <td id=\"T_43b0df5b_8c2c_11eb_87bb_a08869cbf95crow11_col0\" class=\"data row11 col0\" >0.28</td>\n",
       "                        <td id=\"T_43b0df5b_8c2c_11eb_87bb_a08869cbf95crow11_col1\" class=\"data row11 col1\" >0.12</td>\n",
       "                        <td id=\"T_43b0df5b_8c2c_11eb_87bb_a08869cbf95crow11_col2\" class=\"data row11 col2\" >-0.18</td>\n",
       "                        <td id=\"T_43b0df5b_8c2c_11eb_87bb_a08869cbf95crow11_col3\" class=\"data row11 col3\" >0.1</td>\n",
       "                        <td id=\"T_43b0df5b_8c2c_11eb_87bb_a08869cbf95crow11_col4\" class=\"data row11 col4\" >0.071</td>\n",
       "                        <td id=\"T_43b0df5b_8c2c_11eb_87bb_a08869cbf95crow11_col5\" class=\"data row11 col5\" >0.14</td>\n",
       "                        <td id=\"T_43b0df5b_8c2c_11eb_87bb_a08869cbf95crow11_col6\" class=\"data row11 col6\" >-0.072</td>\n",
       "                        <td id=\"T_43b0df5b_8c2c_11eb_87bb_a08869cbf95crow11_col7\" class=\"data row11 col7\" >-0.21</td>\n",
       "                        <td id=\"T_43b0df5b_8c2c_11eb_87bb_a08869cbf95crow11_col8\" class=\"data row11 col8\" >0.12</td>\n",
       "                        <td id=\"T_43b0df5b_8c2c_11eb_87bb_a08869cbf95crow11_col9\" class=\"data row11 col9\" >0.22</td>\n",
       "                        <td id=\"T_43b0df5b_8c2c_11eb_87bb_a08869cbf95crow11_col10\" class=\"data row11 col10\" >-0.08</td>\n",
       "                        <td id=\"T_43b0df5b_8c2c_11eb_87bb_a08869cbf95crow11_col11\" class=\"data row11 col11\" >1.0</td>\n",
       "                        <td id=\"T_43b0df5b_8c2c_11eb_87bb_a08869cbf95crow11_col12\" class=\"data row11 col12\" >0.15</td>\n",
       "                        <td id=\"T_43b0df5b_8c2c_11eb_87bb_a08869cbf95crow11_col13\" class=\"data row11 col13\" >-0.39</td>\n",
       "            </tr>\n",
       "            <tr>\n",
       "                        <th id=\"T_43b0df5b_8c2c_11eb_87bb_a08869cbf95clevel0_row12\" class=\"row_heading level0 row12\" >thal</th>\n",
       "                        <td id=\"T_43b0df5b_8c2c_11eb_87bb_a08869cbf95crow12_col0\" class=\"data row12 col0\" >0.068</td>\n",
       "                        <td id=\"T_43b0df5b_8c2c_11eb_87bb_a08869cbf95crow12_col1\" class=\"data row12 col1\" >0.21</td>\n",
       "                        <td id=\"T_43b0df5b_8c2c_11eb_87bb_a08869cbf95crow12_col2\" class=\"data row12 col2\" >-0.16</td>\n",
       "                        <td id=\"T_43b0df5b_8c2c_11eb_87bb_a08869cbf95crow12_col3\" class=\"data row12 col3\" >0.062</td>\n",
       "                        <td id=\"T_43b0df5b_8c2c_11eb_87bb_a08869cbf95crow12_col4\" class=\"data row12 col4\" >0.099</td>\n",
       "                        <td id=\"T_43b0df5b_8c2c_11eb_87bb_a08869cbf95crow12_col5\" class=\"data row12 col5\" >-0.032</td>\n",
       "                        <td id=\"T_43b0df5b_8c2c_11eb_87bb_a08869cbf95crow12_col6\" class=\"data row12 col6\" >-0.012</td>\n",
       "                        <td id=\"T_43b0df5b_8c2c_11eb_87bb_a08869cbf95crow12_col7\" class=\"data row12 col7\" >-0.096</td>\n",
       "                        <td id=\"T_43b0df5b_8c2c_11eb_87bb_a08869cbf95crow12_col8\" class=\"data row12 col8\" >0.21</td>\n",
       "                        <td id=\"T_43b0df5b_8c2c_11eb_87bb_a08869cbf95crow12_col9\" class=\"data row12 col9\" >0.21</td>\n",
       "                        <td id=\"T_43b0df5b_8c2c_11eb_87bb_a08869cbf95crow12_col10\" class=\"data row12 col10\" >-0.1</td>\n",
       "                        <td id=\"T_43b0df5b_8c2c_11eb_87bb_a08869cbf95crow12_col11\" class=\"data row12 col11\" >0.15</td>\n",
       "                        <td id=\"T_43b0df5b_8c2c_11eb_87bb_a08869cbf95crow12_col12\" class=\"data row12 col12\" >1.0</td>\n",
       "                        <td id=\"T_43b0df5b_8c2c_11eb_87bb_a08869cbf95crow12_col13\" class=\"data row12 col13\" >-0.34</td>\n",
       "            </tr>\n",
       "            <tr>\n",
       "                        <th id=\"T_43b0df5b_8c2c_11eb_87bb_a08869cbf95clevel0_row13\" class=\"row_heading level0 row13\" >target</th>\n",
       "                        <td id=\"T_43b0df5b_8c2c_11eb_87bb_a08869cbf95crow13_col0\" class=\"data row13 col0\" >-0.23</td>\n",
       "                        <td id=\"T_43b0df5b_8c2c_11eb_87bb_a08869cbf95crow13_col1\" class=\"data row13 col1\" >-0.28</td>\n",
       "                        <td id=\"T_43b0df5b_8c2c_11eb_87bb_a08869cbf95crow13_col2\" class=\"data row13 col2\" >0.43</td>\n",
       "                        <td id=\"T_43b0df5b_8c2c_11eb_87bb_a08869cbf95crow13_col3\" class=\"data row13 col3\" >-0.14</td>\n",
       "                        <td id=\"T_43b0df5b_8c2c_11eb_87bb_a08869cbf95crow13_col4\" class=\"data row13 col4\" >-0.085</td>\n",
       "                        <td id=\"T_43b0df5b_8c2c_11eb_87bb_a08869cbf95crow13_col5\" class=\"data row13 col5\" >-0.028</td>\n",
       "                        <td id=\"T_43b0df5b_8c2c_11eb_87bb_a08869cbf95crow13_col6\" class=\"data row13 col6\" >0.14</td>\n",
       "                        <td id=\"T_43b0df5b_8c2c_11eb_87bb_a08869cbf95crow13_col7\" class=\"data row13 col7\" >0.42</td>\n",
       "                        <td id=\"T_43b0df5b_8c2c_11eb_87bb_a08869cbf95crow13_col8\" class=\"data row13 col8\" >-0.44</td>\n",
       "                        <td id=\"T_43b0df5b_8c2c_11eb_87bb_a08869cbf95crow13_col9\" class=\"data row13 col9\" >-0.43</td>\n",
       "                        <td id=\"T_43b0df5b_8c2c_11eb_87bb_a08869cbf95crow13_col10\" class=\"data row13 col10\" >0.35</td>\n",
       "                        <td id=\"T_43b0df5b_8c2c_11eb_87bb_a08869cbf95crow13_col11\" class=\"data row13 col11\" >-0.39</td>\n",
       "                        <td id=\"T_43b0df5b_8c2c_11eb_87bb_a08869cbf95crow13_col12\" class=\"data row13 col12\" >-0.34</td>\n",
       "                        <td id=\"T_43b0df5b_8c2c_11eb_87bb_a08869cbf95crow13_col13\" class=\"data row13 col13\" >1.0</td>\n",
       "            </tr>\n",
       "    </tbody></table>"
      ],
      "text/plain": [
       "<pandas.io.formats.style.Styler at 0x1f79a1ea610>"
      ]
     },
     "execution_count": 7,
     "metadata": {},
     "output_type": "execute_result"
    }
   ],
   "source": [
    "# Analysing dataset columns correlation \n",
    "\n",
    "df.corr().style.format(\"{:.2}\").background_gradient(cmap=(\"coolwarm\"),axis=1)"
   ]
  },
  {
   "cell_type": "markdown",
   "metadata": {},
   "source": [
    "## General Exploratory Analysing between pacient age and health status."
   ]
  },
  {
   "cell_type": "code",
   "execution_count": 8,
   "metadata": {
    "scrolled": false
   },
   "outputs": [
    {
     "data": {
      "text/html": [
       "<div>\n",
       "<style scoped>\n",
       "    .dataframe tbody tr th:only-of-type {\n",
       "        vertical-align: middle;\n",
       "    }\n",
       "\n",
       "    .dataframe tbody tr th {\n",
       "        vertical-align: top;\n",
       "    }\n",
       "\n",
       "    .dataframe thead th {\n",
       "        text-align: right;\n",
       "    }\n",
       "</style>\n",
       "<table border=\"1\" class=\"dataframe\">\n",
       "  <thead>\n",
       "    <tr style=\"text-align: right;\">\n",
       "      <th></th>\n",
       "      <th>sex</th>\n",
       "      <th>gender</th>\n",
       "    </tr>\n",
       "  </thead>\n",
       "  <tbody>\n",
       "    <tr>\n",
       "      <th>1</th>\n",
       "      <td>207</td>\n",
       "      <td>MAN</td>\n",
       "    </tr>\n",
       "    <tr>\n",
       "      <th>0</th>\n",
       "      <td>96</td>\n",
       "      <td>WOMAN</td>\n",
       "    </tr>\n",
       "  </tbody>\n",
       "</table>\n",
       "</div>"
      ],
      "text/plain": [
       "   sex gender\n",
       "1  207    MAN\n",
       "0   96  WOMAN"
      ]
     },
     "execution_count": 8,
     "metadata": {},
     "output_type": "execute_result"
    }
   ],
   "source": [
    "# Development two columns dataset from the main dataset to express the amount of genders into the study.\n",
    "\n",
    "dfc = pd.DataFrame(df.sex.value_counts())\n",
    "dfc\n",
    "\n",
    "gender = ['MAN', 'WOMAN']\n",
    "\n",
    "dfc.insert(loc=1,column='gender', value=gender)\n",
    "dfc.head()"
   ]
  },
  {
   "cell_type": "code",
   "execution_count": 9,
   "metadata": {
    "scrolled": false
   },
   "outputs": [
    {
     "data": {
      "image/png": "[encoded data removed]",
      "text/plain": [
       "<Figure size 432x288 with 1 Axes>"
      ]
     },
     "metadata": {
      "needs_background": "light"
     },
     "output_type": "display_data"
    }
   ],
   "source": [
    "# Bar chart for better and fast view of the result.\n",
    "\n",
    "sns.countplot(x=df.sex, palette='Set2')\n",
    "plt.title(\"Amount of pacientes (WOMAN = 0 and MAN = 1)\")\n",
    "plt.show()"
   ]
  },
  {
   "cell_type": "code",
   "execution_count": 10,
   "metadata": {
    "scrolled": true
   },
   "outputs": [
    {
     "data": {
      "image/png": "[encoded data removed]",
      "text/plain": [
       "<Figure size 432x288 with 1 Axes>"
      ]
     },
     "metadata": {},
     "output_type": "display_data"
    }
   ],
   "source": [
    "# Code used to discover the percentage by gender.\n",
    "\n",
    "labels = dfc.gender\n",
    "colors = ['lightskyblue', 'red']\n",
    "plt.pie(dfc['sex'], labels= labels, colors=colors, startangle=90, autopct='%.1f%%')\n",
    "plt.show()"
   ]
  },
  {
   "cell_type": "code",
   "execution_count": 11,
   "metadata": {},
   "outputs": [
    {
     "data": {
      "text/plain": [
       "54.366336633663366"
      ]
     },
     "execution_count": 11,
     "metadata": {},
     "output_type": "execute_result"
    }
   ],
   "source": [
    "# Code used to find out the general age mean by gender classified as heart disiase candidate.\n",
    "\n",
    "age = df['age'].values\n",
    "age\n",
    "age.mean()"
   ]
  },
  {
   "cell_type": "code",
   "execution_count": 12,
   "metadata": {},
   "outputs": [
    {
     "data": {
      "image/png": "[encoded data removed]",
      "text/plain": [
       "<Figure size 432x288 with 1 Axes>"
      ]
     },
     "metadata": {},
     "output_type": "display_data"
    }
   ],
   "source": [
    "# Code used to create a pizza chart to inform the percentage of sick and health pacients\n",
    "\n",
    "dfc = pd.DataFrame(df.target.value_counts())\n",
    "dfc\n",
    "\n",
    "status = ['Sick', 'Healthy']\n",
    "\n",
    "\n",
    "dfc.insert(loc=1,column='status', value=status)\n",
    "\n",
    "dfc.head()\n",
    "\n",
    "labels = dfc.status\n",
    "colors = ['lightskyblue', 'red']\n",
    "plt.pie(dfc['target'], labels= labels, colors=colors, startangle=90, autopct='%.1f%%')\n",
    "plt.show()"
   ]
  },
  {
   "cell_type": "markdown",
   "metadata": {},
   "source": [
    "## Men's Patient Exploratory Analysis"
   ]
  },
  {
   "cell_type": "code",
   "execution_count": 13,
   "metadata": {
    "scrolled": true
   },
   "outputs": [
    {
     "data": {
      "text/plain": [
       "array([63, 37, 56, 57, 44, 52, 57, 54, 49, 64, 43, 59, 44, 42, 61, 40, 59,\n",
       "       51, 53, 65, 44, 54, 51, 54, 48, 45, 39, 52, 44, 47, 66, 62, 52, 48,\n",
       "       45, 34, 54, 52, 41, 58, 51, 44, 54, 51, 29, 51, 51, 59, 52, 58, 41,\n",
       "       45, 52, 68, 46, 48, 57, 52, 53, 52, 43, 53, 42, 59, 42, 50, 69, 57,\n",
       "       43, 55, 41, 56, 59, 47, 42, 41, 62, 57, 64, 43, 70, 44, 42, 66, 64,\n",
       "       47, 35, 58, 56, 56, 41, 38, 38, 67, 67, 63, 53, 56, 48, 58, 58, 60,\n",
       "       40, 60, 64, 43, 57, 55, 58, 50, 44, 60, 54, 50, 41, 58, 54, 60, 60,\n",
       "       59, 46, 67, 62, 65, 44, 60, 58, 68, 52, 59, 49, 59, 57, 61, 39, 56,\n",
       "       63, 65, 48, 55, 65, 54, 70, 62, 35, 59, 64, 47, 57, 55, 64, 70, 51,\n",
       "       58, 60, 77, 35, 70, 64, 57, 56, 48, 66, 54, 69, 51, 43, 67, 59, 45,\n",
       "       58, 50, 38, 52, 53, 54, 66, 49, 54, 56, 46, 61, 67, 58, 47, 52, 58,\n",
       "       57, 61, 42, 52, 59, 40, 61, 46, 59, 57, 57, 61, 58, 67, 44, 63, 59,\n",
       "       45, 68, 57], dtype=int64)"
      ]
     },
     "execution_count": 13,
     "metadata": {},
     "output_type": "execute_result"
    }
   ],
   "source": [
    "# Code used to count the amout of men inside the case study.\n",
    "\n",
    "total_M = df[df['sex']==1]['age'].values\n",
    "total_M"
   ]
  },
  {
   "cell_type": "code",
   "execution_count": 14,
   "metadata": {},
   "outputs": [
    {
     "name": "stderr",
     "output_type": "stream",
     "text": [
      "<ipython-input-14-27a07500499c>:3: UserWarning: Boolean Series key will be reindexed to match DataFrame index.\n",
      "  sick_M = df[df['sex']==1][df['target']==1]['age'].values\n"
     ]
    },
    {
     "data": {
      "text/plain": [
       "array([63, 37, 56, 57, 44, 52, 57, 54, 49, 64, 43, 59, 44, 42, 61, 40, 59,\n",
       "       51, 53, 65, 44, 54, 51, 54, 48, 45, 39, 52, 44, 47, 66, 62, 52, 48,\n",
       "       45, 34, 54, 52, 41, 58, 51, 44, 54, 51, 29, 51, 51, 59, 52, 58, 41,\n",
       "       45, 52, 68, 46, 48, 57, 52, 53, 52, 43, 53, 42, 59, 42, 50, 69, 57,\n",
       "       43, 55, 41, 56, 59, 47, 42, 41, 62, 57, 64, 43, 70, 44, 42, 66, 64,\n",
       "       47, 35, 58, 56, 56, 41, 38, 38], dtype=int64)"
      ]
     },
     "execution_count": 14,
     "metadata": {},
     "output_type": "execute_result"
    }
   ],
   "source": [
    "# Code used to discover how are the man not health. \n",
    "\n",
    "sick_M = df[df['sex']==1][df['target']==1]['age'].values\n",
    "sick_M"
   ]
  },
  {
   "cell_type": "code",
   "execution_count": 15,
   "metadata": {
    "scrolled": true
   },
   "outputs": [
    {
     "data": {
      "image/png": "[encoded data removed]",
      "text/plain": [
       "<Figure size 720x648 with 1 Axes>"
      ]
     },
     "metadata": {
      "needs_background": "light"
     },
     "output_type": "display_data"
    }
   ],
   "source": [
    "# Chart used to describe the age of all man pacients.\n",
    "\n",
    "M = df[df['sex']==1]['age'].values\n",
    "M\n",
    "\n",
    "plt.subplots(figsize= (10,9))\n",
    "\n",
    "sns.countplot(y=M)\n",
    "plt.title(\"Amount of Man pacient by age)\")\n",
    "plt.show()"
   ]
  },
  {
   "cell_type": "code",
   "execution_count": 16,
   "metadata": {
    "scrolled": false
   },
   "outputs": [
    {
     "name": "stderr",
     "output_type": "stream",
     "text": [
      "<ipython-input-16-2ef8fe632cdd>:3: UserWarning: Boolean Series key will be reindexed to match DataFrame index.\n",
      "  MS = df[df['sex']==1][df['target']==1]['age'].values\n"
     ]
    },
    {
     "data": {
      "image/png": "[encoded data removed]",
      "text/plain": [
       "<Figure size 720x648 with 1 Axes>"
      ]
     },
     "metadata": {
      "needs_background": "light"
     },
     "output_type": "display_data"
    }
   ],
   "source": [
    "# Chart used to describe the age of all sick man pacients.\n",
    "\n",
    "MS = df[df['sex']==1][df['target']==1]['age'].values\n",
    "MS\n",
    "\n",
    "plt.subplots(figsize= (10,9))\n",
    "\n",
    "sns.countplot(y=MS)\n",
    "plt.title(\"Amount of Man pacient by age)\")\n",
    "plt.show()"
   ]
  },
  {
   "cell_type": "code",
   "execution_count": 17,
   "metadata": {
    "scrolled": true
   },
   "outputs": [
    {
     "data": {
      "text/html": [
       "<div>\n",
       "<style scoped>\n",
       "    .dataframe tbody tr th:only-of-type {\n",
       "        vertical-align: middle;\n",
       "    }\n",
       "\n",
       "    .dataframe tbody tr th {\n",
       "        vertical-align: top;\n",
       "    }\n",
       "\n",
       "    .dataframe thead th {\n",
       "        text-align: right;\n",
       "    }\n",
       "</style>\n",
       "<table border=\"1\" class=\"dataframe\">\n",
       "  <thead>\n",
       "    <tr style=\"text-align: right;\">\n",
       "      <th></th>\n",
       "      <th>Health_Status</th>\n",
       "    </tr>\n",
       "  </thead>\n",
       "  <tbody>\n",
       "    <tr>\n",
       "      <th>0</th>\n",
       "      <td>1</td>\n",
       "    </tr>\n",
       "    <tr>\n",
       "      <th>1</th>\n",
       "      <td>1</td>\n",
       "    </tr>\n",
       "    <tr>\n",
       "      <th>2</th>\n",
       "      <td>1</td>\n",
       "    </tr>\n",
       "    <tr>\n",
       "      <th>3</th>\n",
       "      <td>1</td>\n",
       "    </tr>\n",
       "    <tr>\n",
       "      <th>4</th>\n",
       "      <td>1</td>\n",
       "    </tr>\n",
       "  </tbody>\n",
       "</table>\n",
       "</div>"
      ],
      "text/plain": [
       "   Health_Status\n",
       "0              1\n",
       "1              1\n",
       "2              1\n",
       "3              1\n",
       "4              1"
      ]
     },
     "execution_count": 17,
     "metadata": {},
     "output_type": "execute_result"
    }
   ],
   "source": [
    "# Creating a new dataset to show the amount off all man and its status in the case study\n",
    "\n",
    "T_M = df[df['sex']==1]['target'].values\n",
    "\n",
    "n_df = pd.DataFrame(T_M)\n",
    "n_df\n",
    "\n",
    "man_df = n_df.rename(columns={0:'Health_Status'})\n",
    "man_df.head()"
   ]
  },
  {
   "cell_type": "code",
   "execution_count": 18,
   "metadata": {},
   "outputs": [
    {
     "data": {
      "text/html": [
       "<div>\n",
       "<style scoped>\n",
       "    .dataframe tbody tr th:only-of-type {\n",
       "        vertical-align: middle;\n",
       "    }\n",
       "\n",
       "    .dataframe tbody tr th {\n",
       "        vertical-align: top;\n",
       "    }\n",
       "\n",
       "    .dataframe thead th {\n",
       "        text-align: right;\n",
       "    }\n",
       "</style>\n",
       "<table border=\"1\" class=\"dataframe\">\n",
       "  <thead>\n",
       "    <tr style=\"text-align: right;\">\n",
       "      <th></th>\n",
       "      <th>Health_Status</th>\n",
       "      <th>MAN_Result</th>\n",
       "    </tr>\n",
       "  </thead>\n",
       "  <tbody>\n",
       "    <tr>\n",
       "      <th>0</th>\n",
       "      <td>114</td>\n",
       "      <td>Sick</td>\n",
       "    </tr>\n",
       "    <tr>\n",
       "      <th>1</th>\n",
       "      <td>93</td>\n",
       "      <td>Healthy</td>\n",
       "    </tr>\n",
       "  </tbody>\n",
       "</table>\n",
       "</div>"
      ],
      "text/plain": [
       "   Health_Status MAN_Result\n",
       "0            114       Sick\n",
       "1             93    Healthy"
      ]
     },
     "execution_count": 18,
     "metadata": {},
     "output_type": "execute_result"
    }
   ],
   "source": [
    "# Dataset created to show the amount of sick and healthy man.\n",
    "\n",
    "df34 = pd.DataFrame(man_df.Health_Status.value_counts())\n",
    "df34\n",
    "\n",
    "Result = ['Sick', 'Healthy']\n",
    "\n",
    "df34.insert(loc=1,column='MAN_Result', value=Result)\n",
    "df34.head()"
   ]
  },
  {
   "cell_type": "code",
   "execution_count": 19,
   "metadata": {
    "scrolled": true
   },
   "outputs": [
    {
     "data": {
      "image/png": "[encoded data removed]",
      "text/plain": [
       "<Figure size 432x288 with 1 Axes>"
      ]
     },
     "metadata": {
      "needs_background": "light"
     },
     "output_type": "display_data"
    }
   ],
   "source": [
    "# Bar chart for better and fast view of the result.\n",
    "\n",
    "sns.countplot(x=man_df.Health_Status, palette='Set2')\n",
    "plt.title(\"Amount of MAN and Health Status= 1)\")\n",
    "plt.show()"
   ]
  },
  {
   "cell_type": "code",
   "execution_count": 20,
   "metadata": {
    "scrolled": true
   },
   "outputs": [
    {
     "data": {
      "image/png": "[encoded data removed]",
      "text/plain": [
       "<Figure size 432x288 with 1 Axes>"
      ]
     },
     "metadata": {},
     "output_type": "display_data"
    }
   ],
   "source": [
    "# Code used to discover the percentage of sick and healthy man.\n",
    "\n",
    "labels = df34.MAN_Result \n",
    "colors = ['lightskyblue', 'red']\n",
    "plt.pie(df34['Health_Status'], labels= labels, colors=colors, startangle=90, autopct='%.1f%%')\n",
    "plt.show()"
   ]
  },
  {
   "cell_type": "markdown",
   "metadata": {},
   "source": [
    "## Women's Patient Exploratory Analysis"
   ]
  },
  {
   "cell_type": "code",
   "execution_count": 21,
   "metadata": {},
   "outputs": [
    {
     "data": {
      "image/png": "[encoded data removed]",
      "text/plain": [
       "<Figure size 720x648 with 1 Axes>"
      ]
     },
     "metadata": {
      "needs_background": "light"
     },
     "output_type": "display_data"
    }
   ],
   "source": [
    "# Code used to count the amout of woman inside the case study.\n",
    "\n",
    "W = df[df['sex']==0]['age'].values\n",
    "W\n",
    "\n",
    "plt.subplots(figsize= (10,9))\n",
    "\n",
    "sns.countplot(y=W)\n",
    "plt.title(\"Amount of Woman pacient by age)\")\n",
    "plt.show()"
   ]
  },
  {
   "cell_type": "code",
   "execution_count": 22,
   "metadata": {
    "scrolled": true
   },
   "outputs": [
    {
     "name": "stderr",
     "output_type": "stream",
     "text": [
      "<ipython-input-22-adefd1656027>:3: UserWarning: Boolean Series key will be reindexed to match DataFrame index.\n",
      "  W = df[df['sex']==0][df['target']==1]['age'].values\n"
     ]
    },
    {
     "data": {
      "image/png": "[encoded data removed]",
      "text/plain": [
       "<Figure size 720x648 with 1 Axes>"
      ]
     },
     "metadata": {
      "needs_background": "light"
     },
     "output_type": "display_data"
    }
   ],
   "source": [
    "# Code used to count the amout of woman sick inside the case study.\n",
    "\n",
    "W = df[df['sex']==0][df['target']==1]['age'].values\n",
    "W\n",
    "\n",
    "plt.subplots(figsize= (10,9))\n",
    "\n",
    "sns.countplot(y=W)\n",
    "plt.title(\"Amount of Woman pacient by age)\")\n",
    "plt.show()"
   ]
  },
  {
   "cell_type": "code",
   "execution_count": 23,
   "metadata": {},
   "outputs": [
    {
     "data": {
      "text/html": [
       "<div>\n",
       "<style scoped>\n",
       "    .dataframe tbody tr th:only-of-type {\n",
       "        vertical-align: middle;\n",
       "    }\n",
       "\n",
       "    .dataframe tbody tr th {\n",
       "        vertical-align: top;\n",
       "    }\n",
       "\n",
       "    .dataframe thead th {\n",
       "        text-align: right;\n",
       "    }\n",
       "</style>\n",
       "<table border=\"1\" class=\"dataframe\">\n",
       "  <thead>\n",
       "    <tr style=\"text-align: right;\">\n",
       "      <th></th>\n",
       "      <th>Health_Status</th>\n",
       "    </tr>\n",
       "  </thead>\n",
       "  <tbody>\n",
       "    <tr>\n",
       "      <th>0</th>\n",
       "      <td>1</td>\n",
       "    </tr>\n",
       "    <tr>\n",
       "      <th>1</th>\n",
       "      <td>1</td>\n",
       "    </tr>\n",
       "    <tr>\n",
       "      <th>2</th>\n",
       "      <td>1</td>\n",
       "    </tr>\n",
       "    <tr>\n",
       "      <th>3</th>\n",
       "      <td>1</td>\n",
       "    </tr>\n",
       "    <tr>\n",
       "      <th>4</th>\n",
       "      <td>1</td>\n",
       "    </tr>\n",
       "  </tbody>\n",
       "</table>\n",
       "</div>"
      ],
      "text/plain": [
       "   Health_Status\n",
       "0              1\n",
       "1              1\n",
       "2              1\n",
       "3              1\n",
       "4              1"
      ]
     },
     "execution_count": 23,
     "metadata": {},
     "output_type": "execute_result"
    }
   ],
   "source": [
    "# Creating a new dataset to show the amount off all Woman and its status in the case study\n",
    "\n",
    "T_W = df[df['sex']==0]['target'].values\n",
    "\n",
    "n_df = pd.DataFrame(T_W)\n",
    "n_df\n",
    "\n",
    "woman_df = n_df.rename(columns={0:'Health_Status'})\n",
    "woman_df.head()"
   ]
  },
  {
   "cell_type": "code",
   "execution_count": 24,
   "metadata": {},
   "outputs": [
    {
     "data": {
      "text/html": [
       "<div>\n",
       "<style scoped>\n",
       "    .dataframe tbody tr th:only-of-type {\n",
       "        vertical-align: middle;\n",
       "    }\n",
       "\n",
       "    .dataframe tbody tr th {\n",
       "        vertical-align: top;\n",
       "    }\n",
       "\n",
       "    .dataframe thead th {\n",
       "        text-align: right;\n",
       "    }\n",
       "</style>\n",
       "<table border=\"1\" class=\"dataframe\">\n",
       "  <thead>\n",
       "    <tr style=\"text-align: right;\">\n",
       "      <th></th>\n",
       "      <th>Health_Status</th>\n",
       "      <th>WOMAN_Result</th>\n",
       "    </tr>\n",
       "  </thead>\n",
       "  <tbody>\n",
       "    <tr>\n",
       "      <th>1</th>\n",
       "      <td>72</td>\n",
       "      <td>Sick</td>\n",
       "    </tr>\n",
       "    <tr>\n",
       "      <th>0</th>\n",
       "      <td>24</td>\n",
       "      <td>Healthy</td>\n",
       "    </tr>\n",
       "  </tbody>\n",
       "</table>\n",
       "</div>"
      ],
      "text/plain": [
       "   Health_Status WOMAN_Result\n",
       "1             72         Sick\n",
       "0             24      Healthy"
      ]
     },
     "execution_count": 24,
     "metadata": {},
     "output_type": "execute_result"
    }
   ],
   "source": [
    "# Dataset created to show the amount of sick and healthy man.\n",
    "\n",
    "df34 = pd.DataFrame(woman_df.Health_Status.value_counts())\n",
    "df34\n",
    "\n",
    "Result = ['Sick', 'Healthy']\n",
    "\n",
    "df34.insert(loc=1,column='WOMAN_Result', value=Result)\n",
    "df34.head()"
   ]
  },
  {
   "cell_type": "code",
   "execution_count": 25,
   "metadata": {},
   "outputs": [
    {
     "data": {
      "image/png": "[encoded data removed]",
      "text/plain": [
       "<Figure size 432x288 with 1 Axes>"
      ]
     },
     "metadata": {
      "needs_background": "light"
     },
     "output_type": "display_data"
    }
   ],
   "source": [
    "# Bar chart for better and fast view of the result.\n",
    "\n",
    "sns.countplot(x=woman_df.Health_Status, palette='Set2')\n",
    "plt.title(\"Amount of WOMAN and Health Status= 1)\")\n",
    "plt.show()"
   ]
  },
  {
   "cell_type": "code",
   "execution_count": 26,
   "metadata": {},
   "outputs": [
    {
     "data": {
      "image/png": "[encoded data removed]",
      "text/plain": [
       "<Figure size 432x288 with 1 Axes>"
      ]
     },
     "metadata": {},
     "output_type": "display_data"
    }
   ],
   "source": [
    "# Code used to discover the percentage of sick and healthy woman.\n",
    "\n",
    "labels = df34.WOMAN_Result \n",
    "colors = ['lightskyblue', 'red']\n",
    "plt.pie(df34['Health_Status'], labels= labels, colors=colors, startangle=90, autopct='%.1f%%')\n",
    "plt.show()"
   ]
  },
  {
   "cell_type": "markdown",
   "metadata": {},
   "source": [
    "# MACHINE LEARNING (COLUMN THAL = Target)\n",
    "\n",
    "## Creating Test e Train model "
   ]
  },
  {
   "cell_type": "code",
   "execution_count": 27,
   "metadata": {},
   "outputs": [
    {
     "name": "stdout",
     "output_type": "stream",
     "text": [
      "shape input de treino (242, 13)\n",
      "shape input de teste (61, 13)\n",
      "shape output de treino (242,)\n",
      "shape output de teste (61,)\n"
     ]
    }
   ],
   "source": [
    "# Separation of test and train bases.\n",
    "\n",
    "import numpy as np\n",
    "seed = 10000\n",
    "\n",
    "from sklearn.model_selection import train_test_split\n",
    "X_train, X_test, Y_train, Y_test = train_test_split(df.loc[:, df.columns != 'target'],\n",
    "                                                    df.target, test_size=0.2, random_state=seed)\n",
    "\n",
    "print('shape input de treino', X_train.shape)\n",
    "print('shape input de teste', X_test.shape)\n",
    "print('shape output de treino', Y_train.shape)\n",
    "print('shape output de teste', Y_test.shape)"
   ]
  },
  {
   "cell_type": "code",
   "execution_count": 28,
   "metadata": {},
   "outputs": [
    {
     "data": {
      "image/png": "[encoded data removed]",
      "text/plain": [
       "<Figure size 432x288 with 1 Axes>"
      ]
     },
     "metadata": {
      "needs_background": "light"
     },
     "output_type": "display_data"
    }
   ],
   "source": [
    "sns.countplot(x=Y_train)\n",
    "plt.title(\"Shape output de treino\")\n",
    "plt.show()"
   ]
  },
  {
   "cell_type": "code",
   "execution_count": 29,
   "metadata": {
    "scrolled": true
   },
   "outputs": [
    {
     "data": {
      "image/png": "[encoded data removed]",
      "text/plain": [
       "<Figure size 432x288 with 1 Axes>"
      ]
     },
     "metadata": {
      "needs_background": "light"
     },
     "output_type": "display_data"
    }
   ],
   "source": [
    "sns.countplot(x=Y_test)\n",
    "plt.title(\"Shape output de teste\")\n",
    "plt.show()"
   ]
  },
  {
   "cell_type": "markdown",
   "metadata": {},
   "source": [
    "# Evaluation MODEL - DECISION TREE"
   ]
  },
  {
   "cell_type": "markdown",
   "metadata": {},
   "source": [
    "### First Try"
   ]
  },
  {
   "cell_type": "code",
   "execution_count": 30,
   "metadata": {},
   "outputs": [],
   "source": [
    "# Training Model\n",
    "\n",
    "from sklearn.tree import DecisionTreeClassifier\n",
    "model = DecisionTreeClassifier(random_state=seed)\n",
    "model.fit(X_train, Y_train);"
   ]
  },
  {
   "cell_type": "code",
   "execution_count": 31,
   "metadata": {},
   "outputs": [
    {
     "data": {
      "text/plain": [
       "1.0"
      ]
     },
     "execution_count": 31,
     "metadata": {},
     "output_type": "execute_result"
    }
   ],
   "source": [
    "# Evaluating test Model (ACCURACY)\n",
    "\n",
    "model.score(X_train, Y_train)"
   ]
  },
  {
   "cell_type": "code",
   "execution_count": 32,
   "metadata": {},
   "outputs": [
    {
     "data": {
      "text/plain": [
       "0.7704918032786885"
      ]
     },
     "execution_count": 32,
     "metadata": {},
     "output_type": "execute_result"
    }
   ],
   "source": [
    "# Evaluating test Model (ACCURACY)\n",
    "\n",
    "model.score(X_test, Y_test)"
   ]
  },
  {
   "cell_type": "markdown",
   "metadata": {},
   "source": [
    "### Second Try"
   ]
  },
  {
   "cell_type": "code",
   "execution_count": 47,
   "metadata": {},
   "outputs": [],
   "source": [
    "from sklearn.tree import DecisionTreeClassifier\n",
    "model = DecisionTreeClassifier(random_state=seed, min_samples_leaf=6)\n",
    "model.fit(X_train, Y_train);"
   ]
  },
  {
   "cell_type": "code",
   "execution_count": 48,
   "metadata": {
    "scrolled": true
   },
   "outputs": [
    {
     "data": {
      "text/plain": [
       "0.8842975206611571"
      ]
     },
     "execution_count": 48,
     "metadata": {},
     "output_type": "execute_result"
    }
   ],
   "source": [
    "model.score(X_train, Y_train)"
   ]
  },
  {
   "cell_type": "code",
   "execution_count": 49,
   "metadata": {},
   "outputs": [
    {
     "data": {
      "text/plain": [
       "0.7377049180327869"
      ]
     },
     "execution_count": 49,
     "metadata": {},
     "output_type": "execute_result"
    }
   ],
   "source": [
    "model.score(X_test, Y_test)"
   ]
  },
  {
   "cell_type": "markdown",
   "metadata": {},
   "source": [
    "# Decision Tree Confusion Matrix"
   ]
  },
  {
   "cell_type": "code",
   "execution_count": 50,
   "metadata": {},
   "outputs": [
    {
     "data": {
      "text/html": [
       "<div>\n",
       "<style scoped>\n",
       "    .dataframe tbody tr th:only-of-type {\n",
       "        vertical-align: middle;\n",
       "    }\n",
       "\n",
       "    .dataframe tbody tr th {\n",
       "        vertical-align: top;\n",
       "    }\n",
       "\n",
       "    .dataframe thead th {\n",
       "        text-align: right;\n",
       "    }\n",
       "</style>\n",
       "<table border=\"1\" class=\"dataframe\">\n",
       "  <thead>\n",
       "    <tr style=\"text-align: right;\">\n",
       "      <th></th>\n",
       "      <th>Real Healthy</th>\n",
       "      <th>Real Sick</th>\n",
       "    </tr>\n",
       "  </thead>\n",
       "  <tbody>\n",
       "    <tr>\n",
       "      <th>Foreseen healthy</th>\n",
       "      <td>23</td>\n",
       "      <td>6</td>\n",
       "    </tr>\n",
       "    <tr>\n",
       "      <th>Foreseen sick</th>\n",
       "      <td>10</td>\n",
       "      <td>22</td>\n",
       "    </tr>\n",
       "  </tbody>\n",
       "</table>\n",
       "</div>"
      ],
      "text/plain": [
       "                  Real Healthy  Real Sick\n",
       "Foreseen healthy            23          6\n",
       "Foreseen sick               10         22"
      ]
     },
     "execution_count": 50,
     "metadata": {},
     "output_type": "execute_result"
    }
   ],
   "source": [
    "from sklearn.metrics import confusion_matrix\n",
    "y_pred = model.predict(X_test)\n",
    "\n",
    "\n",
    "confMatrix = pd.DataFrame(confusion_matrix(y_pred, Y_test), \n",
    "                          index=['Foreseen healthy', 'Foreseen sick'], \n",
    "                          columns=['Real Healthy', 'Real Sick'])\n",
    "confMatrix"
   ]
  },
  {
   "cell_type": "markdown",
   "metadata": {},
   "source": [
    "# Saving model READY TO USE"
   ]
  },
  {
   "cell_type": "code",
   "execution_count": 1,
   "metadata": {},
   "outputs": [
    {
     "ename": "NameError",
     "evalue": "name 'model' is not defined",
     "output_type": "error",
     "traceback": [
      "\u001b[1;31m---------------------------------------------------------------------------\u001b[0m",
      "\u001b[1;31mNameError\u001b[0m                                 Traceback (most recent call last)",
      "\u001b[1;32m<ipython-input-1-e6fc2be7a103>\u001b[0m in \u001b[0;36m<module>\u001b[1;34m\u001b[0m\n\u001b[0;32m      1\u001b[0m \u001b[1;32mimport\u001b[0m \u001b[0mpickle\u001b[0m\u001b[1;33m\u001b[0m\u001b[1;33m\u001b[0m\u001b[0m\n\u001b[1;32m----> 2\u001b[1;33m \u001b[0mpickle\u001b[0m\u001b[1;33m.\u001b[0m\u001b[0mdump\u001b[0m\u001b[1;33m(\u001b[0m\u001b[0mmodel\u001b[0m\u001b[1;33m,\u001b[0m \u001b[0mopen\u001b[0m\u001b[1;33m(\u001b[0m\u001b[1;34m'model.sav'\u001b[0m\u001b[1;33m,\u001b[0m \u001b[1;34m'wb'\u001b[0m\u001b[1;33m)\u001b[0m\u001b[1;33m)\u001b[0m\u001b[1;33m\u001b[0m\u001b[1;33m\u001b[0m\u001b[0m\n\u001b[0m",
      "\u001b[1;31mNameError\u001b[0m: name 'model' is not defined"
     ]
    }
   ],
   "source": [
    "import pickle\n",
    "pickle.dump(model, open('model.sav', 'wb'))"
   ]
  }
 ],
 "metadata": {
  "kernelspec": {
   "display_name": "Python 3",
   "language": "python",
   "name": "python3"
  },
  "language_info": {
   "codemirror_mode": {
    "name": "ipython",
    "version": 3
   },
   "file_extension": ".py",
   "mimetype": "text/x-python",
   "name": "python",
   "nbconvert_exporter": "python",
   "pygments_lexer": "ipython3",
   "version": "3.8.5"
  }
 },
 "nbformat": 4,
 "nbformat_minor": 4
}
